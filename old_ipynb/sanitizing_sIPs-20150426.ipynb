{
 "cells": [
  {
   "cell_type": "code",
   "execution_count": 1,
   "metadata": {
    "collapsed": false
   },
   "outputs": [],
   "source": [
    "from __future__ import division\n",
    "import pandas as pd\n",
    "import subprocess, os\n",
    "import httplib\n",
    "import numpy as np\n",
    "import json, requests\n",
    "from netaddr import IPNetwork, IPAddress\n",
    "from collections import defaultdict\n",
    "\n",
    "SAMPLENAME = \"sIP_sanitize_20150426/\"\n",
    "#SAMPLENAME = \"validate_20150422\"\n",
    "DATAPATH = \"data/sIP_sanitize/\"\n",
    "DATAPATH2 = \"results/validated_20150422/\"\n",
    "\n",
    "RESULTS = \"results/\" + SAMPLENAME\n",
    "if not os.path.exists(RESULTS):\n",
    "    os.makedirs(RESULTS)"
   ]
  },
  {
   "cell_type": "markdown",
   "metadata": {},
   "source": [
    "# SIP and DOMAINS to REJECT"
   ]
  },
  {
   "cell_type": "code",
   "execution_count": 3,
   "metadata": {
    "collapsed": false
   },
   "outputs": [
    {
     "name": "stdout",
     "output_type": "stream",
     "text": [
      "580\n"
     ]
    },
    {
     "data": {
      "text/html": [
       "<div style=\"max-height:1000px;max-width:1500px;overflow:auto;\">\n",
       "<table border=\"1\" class=\"dataframe\">\n",
       "  <thead>\n",
       "    <tr style=\"text-align: right;\">\n",
       "      <th></th>\n",
       "      <th>sIP</th>\n",
       "      <th>domain</th>\n",
       "      <th>subcat</th>\n",
       "    </tr>\n",
       "  </thead>\n",
       "  <tbody>\n",
       "    <tr>\n",
       "      <th>0</th>\n",
       "      <td>  23.235.33.64</td>\n",
       "      <td>                  deadspin.com</td>\n",
       "      <td>                         [sports]</td>\n",
       "    </tr>\n",
       "    <tr>\n",
       "      <th>1</th>\n",
       "      <td> 216.239.38.21</td>\n",
       "      <td>                    uproxy.org</td>\n",
       "      <td>                         [circum]</td>\n",
       "    </tr>\n",
       "    <tr>\n",
       "      <th>2</th>\n",
       "      <td> 41.185.22.146</td>\n",
       "      <td>                medihelp.co.za</td>\n",
       "      <td>                          [world]</td>\n",
       "    </tr>\n",
       "    <tr>\n",
       "      <th>3</th>\n",
       "      <td> 184.73.236.82</td>\n",
       "      <td>                   history.com</td>\n",
       "      <td> [kids_and_teens, arts, business]</td>\n",
       "    </tr>\n",
       "    <tr>\n",
       "      <th>4</th>\n",
       "      <td> 23.212.53.230</td>\n",
       "      <td> navbharattimes.indiatimes.com</td>\n",
       "      <td>                    [news, world]</td>\n",
       "    </tr>\n",
       "  </tbody>\n",
       "</table>\n",
       "</div>"
      ],
      "text/plain": [
       "             sIP                         domain  \\\n",
       "0   23.235.33.64                   deadspin.com   \n",
       "1  216.239.38.21                     uproxy.org   \n",
       "2  41.185.22.146                 medihelp.co.za   \n",
       "3  184.73.236.82                    history.com   \n",
       "4  23.212.53.230  navbharattimes.indiatimes.com   \n",
       "\n",
       "                             subcat  \n",
       "0                          [sports]  \n",
       "1                          [circum]  \n",
       "2                           [world]  \n",
       "3  [kids_and_teens, arts, business]  \n",
       "4                     [news, world]  "
      ]
     },
     "execution_count": 3,
     "metadata": {},
     "output_type": "execute_result"
    }
   ],
   "source": [
    "# Load sIP:domain:subcat list\n",
    "df_sIP_info = pd.read_csv(DATAPATH + \"Servers_IMC.txt.original\")\n",
    "df_sIP_info['subcat'] = df_sIP_info['subcat'].apply(lambda x:x.split(\"|\"))\n",
    "print len(df_sIP_info)\n",
    "df_sIP_info.head()"
   ]
  },
  {
   "cell_type": "markdown",
   "metadata": {},
   "source": [
    "# Checks: IP-reachability, domain-IP-relevance, high-censorship\n",
    "- maintain an sIP_info table using df_sIP_subcat\n",
    "- add IP-reachability, domain-IP-relevance, and censorship info to it\n",
    "\n",
    "## IP-reachability: Spooky-scan fails on anycast\n",
    "- ANYCAST_DESC: does IP belong to Anycast list: Cloudflare, amazon, etc\n",
    "- REVERSE_DNS: sIP reverse DNS using dig @8.8.8.8 contains aws etc.\n",
    "- SLASH24, SHARED_SLASH24: IPs that share a slash24 with others on the list: suspected CDNs\n",
    "\n",
    "## domain-IP-relevance: sIP to Domain mapping\n",
    "- DNS_LIST, DNS_CONTAINS_IPADDR: DNS query for domain: contains sIP?\n",
    "- HTTP_DOMAIN, HTTP_IP, HTTP_IP_CONTAINS_DOMAIN, HTTP_DIFF: http download for domain works (check1) and is the same as http download for sIP (check2)\n",
    "\n",
    "## high-censorship: Censorship ratios for US and SE\n",
    "- type1\n",
    "- type2\n",
    "- type3\n",
    "- type4"
   ]
  },
  {
   "cell_type": "markdown",
   "metadata": {},
   "source": [
    "#1. IP-reachability:\n",
    "- Spooky scan fails to detect censorship at gIP if the sIP itself is protecting its IP layer\n",
    "\n",
    "- sIPs can use firewalls that don't allow measurements without knowing the host\n",
    "    - for example popular websites like reddit are hosted on cloudflare\n",
    "    - although we can connect (telnet port 80) to them, they do not allow direct access\n",
    "\n",
    "- sIPs can be anycasted (for example popular CDNs) and refer to different machine\n",
    "    - similar to firewall issue, a proxy machine may decide where to route the connection based on host info\n",
    " \n",
    "- these websites are usually not reacheable directly via IP, but are valid websites\n",
    "- if we do not weed them out, they will appear as censorship. In reality they are limitations of spooky-scan that are server-side unreacheable (unmeasureable?) due to firewalls or anycast. (they are usually CDNs).\n",
    "\n",
    "#### Weeding out sIPs spooky scan cannot measure:\n",
    "- anycast sIPs: unfortunately detecting anycast is a huge research problem not tackled by us\n",
    "    - we download list of popular anycasting CDNs\n",
    "    - we find their IP prefixes using BGP updates\n",
    "    - we find sIPs that may belong to anycast\n",
    "- reverse DNS: may show akamai or aws, which are also popular anycast\n",
    "- slash24: many google sIPs seem to belong to the same /24 prefix. In case something is not in the anycast list, we find sIPs with common /24"
   ]
  },
  {
   "cell_type": "markdown",
   "metadata": {},
   "source": [
    "#### Create a copy frame to add IP-reachability info to"
   ]
  },
  {
   "cell_type": "code",
   "execution_count": 90,
   "metadata": {
    "collapsed": true
   },
   "outputs": [],
   "source": [
    "sIP_info = df_sIP_info.copy()"
   ]
  },
  {
   "cell_type": "markdown",
   "metadata": {},
   "source": [
    "#### Load Anycast"
   ]
  },
  {
   "cell_type": "code",
   "execution_count": 27,
   "metadata": {
    "collapsed": false
   },
   "outputs": [
    {
     "data": {
      "text/html": [
       "<div style=\"max-height:1000px;max-width:1500px;overflow:auto;\">\n",
       "<table border=\"1\" class=\"dataframe\">\n",
       "  <thead>\n",
       "    <tr style=\"text-align: right;\">\n",
       "      <th></th>\n",
       "      <th>ip_prefix</th>\n",
       "      <th>description</th>\n",
       "    </tr>\n",
       "  </thead>\n",
       "  <tbody>\n",
       "    <tr>\n",
       "      <th>0</th>\n",
       "      <td>  23.10.240.0/24</td>\n",
       "      <td> Akamai Technologies, Inc. United States</td>\n",
       "    </tr>\n",
       "    <tr>\n",
       "      <th>1</th>\n",
       "      <td>    23.34.0.0/20</td>\n",
       "      <td> Akamai Technologies, Inc. United States</td>\n",
       "    </tr>\n",
       "    <tr>\n",
       "      <th>2</th>\n",
       "      <td>  23.79.224.0/20</td>\n",
       "      <td>  Akamai International, BV United States</td>\n",
       "    </tr>\n",
       "    <tr>\n",
       "      <th>3</th>\n",
       "      <td> 63.208.195.0/24</td>\n",
       "      <td>      Akamai Customer Care United States</td>\n",
       "    </tr>\n",
       "    <tr>\n",
       "      <th>4</th>\n",
       "      <td>   72.246.0.0/22</td>\n",
       "      <td> Akamai Technologies, Inc. United States</td>\n",
       "    </tr>\n",
       "  </tbody>\n",
       "</table>\n",
       "</div>"
      ],
      "text/plain": [
       "         ip_prefix                              description\n",
       "0   23.10.240.0/24  Akamai Technologies, Inc. United States\n",
       "1     23.34.0.0/20  Akamai Technologies, Inc. United States\n",
       "2   23.79.224.0/20   Akamai International, BV United States\n",
       "3  63.208.195.0/24       Akamai Customer Care United States\n",
       "4    72.246.0.0/22  Akamai Technologies, Inc. United States"
      ]
     },
     "execution_count": 27,
     "metadata": {},
     "output_type": "execute_result"
    }
   ],
   "source": [
    "# Load ANYCASTERS\n",
    "df_anycast_temp = pd.read_csv(DATAPATH + \"anycasters.txt\", names=[\"ip_prefix\", \"description\"], delimiter='\\t')\n",
    "\n",
    "with open(DATAPATH + 'anycast-ip-range_amazon.json') as data_file:    \n",
    "    data = json.load(data_file)\n",
    "amazon = pd.DataFrame(data['prefixes'])\n",
    "amazon['description'] = amazon['description'] = amazon['region']+\"|\"+amazon['service']\n",
    "\n",
    "df_anycast = pd.concat([df_anycast_temp, amazon[['ip_prefix', 'description']]])\n",
    "del df_anycast_temp, amazon\n",
    "\n",
    "df_anycast.to_csv(DATAPATH + \"anycast_complete.csv\")\n",
    "df_anycast.head()"
   ]
  },
  {
   "cell_type": "markdown",
   "metadata": {},
   "source": [
    "#### Store anycast if any sIP belongs to the prefixes"
   ]
  },
  {
   "cell_type": "code",
   "execution_count": 51,
   "metadata": {
    "collapsed": true
   },
   "outputs": [],
   "source": [
    "def check_ip_prefix(sIP):\n",
    "    for prefix in list( df_anycast['ip_prefix'] ):\n",
    "        if IPAddress(sIP) in IPNetwork(prefix):\n",
    "            return df_anycast[df_anycast['ip_prefix'] == prefix]['description'].values[0]\n",
    "    return -1"
   ]
  },
  {
   "cell_type": "code",
   "execution_count": 52,
   "metadata": {
    "collapsed": false
   },
   "outputs": [],
   "source": [
    "sIP_info['anycast'] = sIP_info['sIP'].apply(check_ip_prefix)"
   ]
  },
  {
   "cell_type": "markdown",
   "metadata": {},
   "source": [
    "#### Get reverse DNS and store in dig_x column"
   ]
  },
  {
   "cell_type": "code",
   "execution_count": 30,
   "metadata": {
    "collapsed": true
   },
   "outputs": [],
   "source": [
    "def get_revDNS(ipaddr):\n",
    "    try:\n",
    "        return subprocess.check_output(\"dig -x \"+ipaddr+\" @8.8.8.8 +short\", shell=True).split()\n",
    "    except:\n",
    "        return -1"
   ]
  },
  {
   "cell_type": "code",
   "execution_count": 31,
   "metadata": {
    "collapsed": true
   },
   "outputs": [],
   "source": [
    "sIP_info['dig_x'] = sIP_info['sIP'].apply(get_revDNS)"
   ]
  },
  {
   "cell_type": "markdown",
   "metadata": {},
   "source": [
    "#### sIPs with shared /24 within the sIP list"
   ]
  },
  {
   "cell_type": "code",
   "execution_count": 84,
   "metadata": {
    "collapsed": false
   },
   "outputs": [],
   "source": [
    "sIP_info['slash24'] = sIP_info['sIP'].apply(lambda x:x[:x.rfind(\".\")])\n",
    "df_IP_reachability = sIP_info.merge( sIP_info.groupby('slash24')['sIP'].count().reset_index().rename(\n",
    "        columns={'sIP':'slash24_shared'}), on='slash24')"
   ]
  },
  {
   "cell_type": "markdown",
   "metadata": {},
   "source": [
    "#### Store this data frame regarding IP reachability"
   ]
  },
  {
   "cell_type": "code",
   "execution_count": 86,
   "metadata": {
    "collapsed": false
   },
   "outputs": [
    {
     "data": {
      "text/html": [
       "<div style=\"max-height:1000px;max-width:1500px;overflow:auto;\">\n",
       "<table border=\"1\" class=\"dataframe\">\n",
       "  <thead>\n",
       "    <tr style=\"text-align: right;\">\n",
       "      <th></th>\n",
       "      <th>sIP</th>\n",
       "      <th>domain</th>\n",
       "      <th>subcat</th>\n",
       "      <th>dig_x</th>\n",
       "      <th>anycast</th>\n",
       "      <th>slash24</th>\n",
       "      <th>slash24_shared</th>\n",
       "    </tr>\n",
       "  </thead>\n",
       "  <tbody>\n",
       "    <tr>\n",
       "      <th>0</th>\n",
       "      <td>  23.235.33.64</td>\n",
       "      <td>   deadspin.com</td>\n",
       "      <td>                         [sports]</td>\n",
       "      <td>                                           []</td>\n",
       "      <td>                        -1</td>\n",
       "      <td>  23.235.33</td>\n",
       "      <td> 2</td>\n",
       "    </tr>\n",
       "    <tr>\n",
       "      <th>1</th>\n",
       "      <td> 23.235.33.217</td>\n",
       "      <td>      vimeo.com</td>\n",
       "      <td>                      [computers]</td>\n",
       "      <td>                                           []</td>\n",
       "      <td>                        -1</td>\n",
       "      <td>  23.235.33</td>\n",
       "      <td> 2</td>\n",
       "    </tr>\n",
       "    <tr>\n",
       "      <th>2</th>\n",
       "      <td> 216.239.38.21</td>\n",
       "      <td>     uproxy.org</td>\n",
       "      <td>                         [circum]</td>\n",
       "      <td>                     [any-in-2615.1e100.net.]</td>\n",
       "      <td> Google Inc. United States</td>\n",
       "      <td> 216.239.38</td>\n",
       "      <td> 1</td>\n",
       "    </tr>\n",
       "    <tr>\n",
       "      <th>3</th>\n",
       "      <td> 41.185.22.146</td>\n",
       "      <td> medihelp.co.za</td>\n",
       "      <td>                          [world]</td>\n",
       "      <td>                                           []</td>\n",
       "      <td>                        -1</td>\n",
       "      <td>  41.185.22</td>\n",
       "      <td> 1</td>\n",
       "    </tr>\n",
       "    <tr>\n",
       "      <th>4</th>\n",
       "      <td> 184.73.236.82</td>\n",
       "      <td>    history.com</td>\n",
       "      <td> [kids_and_teens, arts, business]</td>\n",
       "      <td> [ec2-184-73-236-82.compute-1.amazonaws.com.]</td>\n",
       "      <td>          us-east-1|AMAZON</td>\n",
       "      <td> 184.73.236</td>\n",
       "      <td> 1</td>\n",
       "    </tr>\n",
       "  </tbody>\n",
       "</table>\n",
       "</div>"
      ],
      "text/plain": [
       "             sIP          domain                            subcat  \\\n",
       "0   23.235.33.64    deadspin.com                          [sports]   \n",
       "1  23.235.33.217       vimeo.com                       [computers]   \n",
       "2  216.239.38.21      uproxy.org                          [circum]   \n",
       "3  41.185.22.146  medihelp.co.za                           [world]   \n",
       "4  184.73.236.82     history.com  [kids_and_teens, arts, business]   \n",
       "\n",
       "                                          dig_x                    anycast  \\\n",
       "0                                            []                         -1   \n",
       "1                                            []                         -1   \n",
       "2                      [any-in-2615.1e100.net.]  Google Inc. United States   \n",
       "3                                            []                         -1   \n",
       "4  [ec2-184-73-236-82.compute-1.amazonaws.com.]           us-east-1|AMAZON   \n",
       "\n",
       "      slash24  slash24_shared  \n",
       "0   23.235.33               2  \n",
       "1   23.235.33               2  \n",
       "2  216.239.38               1  \n",
       "3   41.185.22               1  \n",
       "4  184.73.236               1  "
      ]
     },
     "execution_count": 86,
     "metadata": {},
     "output_type": "execute_result"
    }
   ],
   "source": [
    "df_IP_reachability.to_pickle(RESULTS + \"df_IP_reachability.pkl\")\n",
    "df_IP_reachability.head()"
   ]
  },
  {
   "cell_type": "markdown",
   "metadata": {},
   "source": [
    "#2. Domain-IP relevance"
   ]
  },
  {
   "cell_type": "markdown",
   "metadata": {},
   "source": [
    "#### Use original df_sIP_info without reachability data"
   ]
  },
  {
   "cell_type": "code",
   "execution_count": 91,
   "metadata": {
    "collapsed": true
   },
   "outputs": [],
   "source": [
    "sIP_info = df_sIP_info.copy()"
   ]
  },
  {
   "cell_type": "markdown",
   "metadata": {},
   "source": [
    "#### DNS Query for domain: does it contain the IPAddr?"
   ]
  },
  {
   "cell_type": "code",
   "execution_count": 92,
   "metadata": {
    "collapsed": true
   },
   "outputs": [],
   "source": [
    "def get_DNS(domain):\n",
    "    try:\n",
    "        dig = subprocess.check_output(\"dig @8.8.8.8 \"+domain+\" +short\", shell=True).split()\n",
    "    except:\n",
    "        dig = -1\n",
    "    return dig"
   ]
  },
  {
   "cell_type": "code",
   "execution_count": 93,
   "metadata": {
    "collapsed": true
   },
   "outputs": [],
   "source": [
    "sIP_info['dig'] = sIP_info['domain'].apply(get_DNS)"
   ]
  },
  {
   "cell_type": "code",
   "execution_count": 109,
   "metadata": {
    "collapsed": false
   },
   "outputs": [],
   "source": [
    "sIP_info['DNS_contains'] = sIP_info.apply(lambda row: row['sIP'] in row['dig'], axis=1)"
   ]
  },
  {
   "cell_type": "markdown",
   "metadata": {},
   "source": [
    "#### HTTP Check domain\n",
    "- http connect to domain\n",
    "    - store the code (should be 200)\n",
    "    - if error code try www\n",
    "    - if error code try https\n",
    "    - whoever gives no error, store in results/curl/QUERY.html using a curl subprocess"
   ]
  },
  {
   "cell_type": "code",
   "execution_count": 232,
   "metadata": {
    "collapsed": false
   },
   "outputs": [],
   "source": [
    "def get_code(domain):\n",
    "    try:\n",
    "        req =  urllib2.urlopen(\"http://\"+domain+\"/\", timeout=2)\n",
    "        return req.getcode()\n",
    "    except urllib2.HTTPError, err:\n",
    "        return err.code\n",
    "    except Exception,err:\n",
    "        if 'code' in err:\n",
    "            return err.code\n",
    "        else:\n",
    "            # try 10 times\n",
    "            for i in range(10):\n",
    "                try:\n",
    "                    req =  urllib2.urlopen(\"http://\"+domain+\"/\", timeout=16)\n",
    "                    code = req.getcode()\n",
    "                    print domain, code, \"loop: \", i\n",
    "                    return code\n",
    "                except:\n",
    "                    pass\n",
    "            print domain, err, \"final\"\n",
    "            return -1\n",
    "\n",
    "# httplib is actually unable to get many 200 codes\n",
    "http_errors = defaultdict(list)\n",
    "\n",
    "def get_http_code(domain):\n",
    "    try:\n",
    "        # this catches relocation\n",
    "        conn = httplib.HTTPConnection(domain)\n",
    "        conn.request(\"HEAD\", \"\")\n",
    "        res = conn.getresponse()\n",
    "        if res.status !=200:\n",
    "            print domain, res.status, res.reason\n",
    "            \n",
    "            http_errors['domain'].append(domain)\n",
    "            http_errors['status'].append(res.status)\n",
    "            http_errors['reason'].append(res.reason)\n",
    "            http_errors['header'].append(res.getheaders())\n",
    "    \n",
    "        return res.status\n",
    "    except Exception, e:\n",
    "        print domain, e\n",
    "        return -1"
   ]
  },
  {
   "cell_type": "code",
   "execution_count": 115,
   "metadata": {
    "collapsed": false
   },
   "outputs": [
    {
     "name": "stdout",
     "output_type": "stream",
     "text": [
      "uproxy.org <urlopen error [Errno 8] _ssl.c:510: EOF occurred in violation of protocol> final\n",
      "livejasmin.com 200 loop:  0 imlive.com '' final\n",
      "uj.ac.za 200 loop:  0 suicidegirls.com 200 loop:  0 kyknet.dstv.com 200 loop:  0 rsg.co.za 200 loop:  0 www.coursera.org <urlopen error [Errno 1] _ssl.c:510: error:14077410:SSL routines:SSL23_GET_SERVER_HELLO:sslv3 alert handshake failure> final\n",
      "watkykjy.co.za 200 loop:  0 asexstories.com 200 loop:  0 groupon.com 200 loop:  0 torDir <urlopen error [Errno -2] Name or service not known> final\n",
      "torDir <urlopen error [Errno -2] Name or service not known> final\n",
      "torDir <urlopen error [Errno -2] Name or service not known> final\n",
      "torDir <urlopen error [Errno -2] Name or service not known> final\n",
      "torDir <urlopen error [Errno -2] Name or service not known> final\n",
      "torDir <urlopen error [Errno -2] Name or service not known> final\n"
     ]
    }
   ],
   "source": [
    "sIP_info['http_domain'] = sIP_info['domain'].apply(get_code)"
   ]
  },
  {
   "cell_type": "code",
   "execution_count": 157,
   "metadata": {
    "collapsed": true
   },
   "outputs": [],
   "source": [
    "# Do not use this it really sucks, even though it catches redirections its a shit library\n",
    "# sIP_info['http_domain2'] = sIP_info['domain'].apply(get_http_code)"
   ]
  },
  {
   "cell_type": "markdown",
   "metadata": {},
   "source": [
    "#### Apart from torDir, there shouldn't be any codes other than 200 here\n",
    "- if code other than 200 exists, try the domain with httplib: this gives relocations (www or https or a new relocated home page)\n",
    "- manual check shows that www works for most missing domains, and https for vpn domains."
   ]
  },
  {
   "cell_type": "code",
   "execution_count": 178,
   "metadata": {
    "collapsed": false
   },
   "outputs": [
    {
     "name": "stdout",
     "output_type": "stream",
     "text": [
      "54\n"
     ]
    },
    {
     "data": {
      "text/html": [
       "<div style=\"max-height:1000px;max-width:1500px;overflow:auto;\">\n",
       "<table border=\"1\" class=\"dataframe\">\n",
       "  <thead>\n",
       "    <tr style=\"text-align: right;\">\n",
       "      <th></th>\n",
       "      <th>sIP</th>\n",
       "      <th>domain</th>\n",
       "      <th>subcat</th>\n",
       "      <th>dig</th>\n",
       "      <th>DNS_contains</th>\n",
       "      <th>http_domain</th>\n",
       "      <th>http_domain2</th>\n",
       "    </tr>\n",
       "  </thead>\n",
       "  <tbody>\n",
       "    <tr>\n",
       "      <th>1 </th>\n",
       "      <td>   216.239.38.21</td>\n",
       "      <td>            uproxy.org</td>\n",
       "      <td>               [circum]</td>\n",
       "      <td> [216.239.32.21, 216.239.38.21, 216.239.36.21, ...</td>\n",
       "      <td>  True</td>\n",
       "      <td>  -1</td>\n",
       "      <td> 301</td>\n",
       "    </tr>\n",
       "    <tr>\n",
       "      <th>14</th>\n",
       "      <td> 172.224.251.210</td>\n",
       "      <td>          marriott.com</td>\n",
       "      <td> [recreation, regional]</td>\n",
       "      <td>                                    [23.37.11.210]</td>\n",
       "      <td> False</td>\n",
       "      <td> 403</td>\n",
       "      <td> 301</td>\n",
       "    </tr>\n",
       "    <tr>\n",
       "      <th>35</th>\n",
       "      <td>   23.235.47.133</td>\n",
       "      <td> fortawesome.github.io</td>\n",
       "      <td>       [kids_and_teens]</td>\n",
       "      <td>           [github.map.fastly.net., 199.27.75.133]</td>\n",
       "      <td> False</td>\n",
       "      <td> 404</td>\n",
       "      <td> 404</td>\n",
       "    </tr>\n",
       "    <tr>\n",
       "      <th>45</th>\n",
       "      <td> 172.224.252.119</td>\n",
       "      <td>         travelzoo.com</td>\n",
       "      <td>           [recreation]</td>\n",
       "      <td>                                    [23.37.10.226]</td>\n",
       "      <td> False</td>\n",
       "      <td> 403</td>\n",
       "      <td> 301</td>\n",
       "    </tr>\n",
       "    <tr>\n",
       "      <th>62</th>\n",
       "      <td> 162.159.241.236</td>\n",
       "      <td>           nordvpn.com</td>\n",
       "      <td>                  [vpn]</td>\n",
       "      <td>                [162.159.240.236, 162.159.241.236]</td>\n",
       "      <td>  True</td>\n",
       "      <td> 403</td>\n",
       "      <td> 301</td>\n",
       "    </tr>\n",
       "  </tbody>\n",
       "</table>\n",
       "</div>"
      ],
      "text/plain": [
       "                sIP                 domain                  subcat  \\\n",
       "1     216.239.38.21             uproxy.org                [circum]   \n",
       "14  172.224.251.210           marriott.com  [recreation, regional]   \n",
       "35    23.235.47.133  fortawesome.github.io        [kids_and_teens]   \n",
       "45  172.224.252.119          travelzoo.com            [recreation]   \n",
       "62  162.159.241.236            nordvpn.com                   [vpn]   \n",
       "\n",
       "                                                  dig DNS_contains  \\\n",
       "1   [216.239.32.21, 216.239.38.21, 216.239.36.21, ...         True   \n",
       "14                                     [23.37.11.210]        False   \n",
       "35            [github.map.fastly.net., 199.27.75.133]        False   \n",
       "45                                     [23.37.10.226]        False   \n",
       "62                 [162.159.240.236, 162.159.241.236]         True   \n",
       "\n",
       "    http_domain  http_domain2  \n",
       "1            -1           301  \n",
       "14          403           301  \n",
       "35          404           404  \n",
       "45          403           301  \n",
       "62          403           301  "
      ]
     },
     "execution_count": 178,
     "metadata": {},
     "output_type": "execute_result"
    }
   ],
   "source": [
    "retry_domain = sIP_info[ (sIP_info['http_domain']!=200) & (sIP_info['domain']!='torDir')]\n",
    "print len(retry_domain)\n",
    "retry_domain.head()"
   ]
  },
  {
   "cell_type": "code",
   "execution_count": 179,
   "metadata": {
    "collapsed": true
   },
   "outputs": [
    {
     "name": "stdout",
     "output_type": "stream",
     "text": [
      "uproxy.org 301 Moved Permanently\n",
      "marriott.com 301 Moved Permanently\n",
      "fortawesome.github.io 404 Not Found\n",
      "travelzoo.com 301 Moved Permanently\n",
      "nordvpn.com 301 Moved Permanently\n",
      "imlive.com 301 Moved Permanently\n",
      "brainyquote.com 301 Moved Permanently\n",
      "republikein.com.na 301 Moved Permanently\n",
      "mmo-champion.com 301 Moved Permanently\n",
      "curse.com 301 Moved Permanently\n",
      "lufthansa.com 301 Moved Permanently\n",
      "studentdoctor.net 301 Moved Permanently\n",
      "fda.gov 400 Bad Request\n",
      "thefind.com 503 Service Temporarily Unavailable\n",
      "nyu.edu 302 Found\n",
      "masrawy.com 302 Found\n",
      "tomshardware.com 416 Requested Range Not Satisfiable\n",
      "myegy.com 302 Moved Temporarily\n",
      "kohls.com 301 Moved Permanently\n",
      "hm.com 301 Moved Permanently\n",
      "emedicine.medscape.com 302 Moved Temporarily\n",
      "furaffinity.net 301 Moved Permanently\n",
      "gocomics.com 301 Moved Permanently\n",
      "staples.com 301 Moved Permanently\n",
      "www.coursera.org 301 Moved Permanently\n",
      "justice.gov.za 403 Forbidden ( The server denied the specified Uniform Resource Locator (URL). Contact the server administrator.  )\n",
      "sheknows.com 301 Moved Permanently\n",
      "metacritic.com 301 Moved Permantenly\n",
      "sun.ac.za 403 Forbidden\n",
      "target.com 503 Service Unavailable\n",
      "planetminecraft.com 403 Forbidden\n",
      "rotoworld.com 301 Moved Permanently\n",
      "translate.google.com 302 Found\n",
      "sciencedirect.com 301 Moved Permanently\n",
      "elance.com 301 Moved Permanently\n",
      "netflix.com 500 Internal Server Error\n",
      "change.org 301 Moved Permanently\n",
      "justanswer.com 302 Found\n",
      "foxnews.com 301 Moved Permanently\n",
      "bravenewsoftware.org 301 Moved Permanently\n",
      "costco.com 302 Found\n",
      "get.ironsocket.com 301 Moved Permanently\n",
      "soccerway.com 301 Moved Permanently\n",
      "fifa.com 301 Moved Permanently\n",
      "quikr.com 301 Moved Permanently\n",
      "eonline.com 301 Moved Permanently\n",
      "pinterest.com 301 https://pinterest.com/\n",
      "indiansexstories.net 301 Moved Permanently\n",
      "autotrader.com 301 Moved Permanently\n",
      "petmd.com 301 Moved Permanently\n",
      "nbcsports.com 301 Moved Permanently\n",
      "economist.com 301 Moved Permanently\n",
      "newgrounds.com 301 Moved Permanently\n"
     ]
    }
   ],
   "source": [
    "sIP_info['http_domain2'] = retry_domain['domain'].apply(get_http_code)"
   ]
  },
  {
   "cell_type": "code",
   "execution_count": null,
   "metadata": {
    "collapsed": true
   },
   "outputs": [],
   "source": [
    "# store the http headers showing redirects\n",
    "df_http_error_ipaddr = pd.DataFrame(http_errors)\n",
    "df_http_error_domain.to_pickle(RESULTS + \"df_http_error_domain.pkl\")"
   ]
  },
  {
   "cell_type": "markdown",
   "metadata": {},
   "source": [
    "#### Domains that have not relocated (with code 301/302) don't exist?\n",
    "- 301 or 302 means the real domain is www or https (it exists)\n",
    "- on checking 503 (server unavailable) also exist (maybe at www) and can be downloaded with curl\n",
    "- 403 are forbidden to access with curl or urllib, these probably need host info for access and only work with a browser\n",
    "- 416 is also a protocol range error\n",
    "- 405 method not allowed "
   ]
  },
  {
   "cell_type": "code",
   "execution_count": 185,
   "metadata": {
    "collapsed": true
   },
   "outputs": [
    {
     "name": "stdout",
     "output_type": "stream",
     "text": [
      "www.uproxy.org 302 Found\n",
      "www.marriott.com 301 Moved Permanently\n",
      "www.fortawesome.github.io 404 Not Found\n",
      "www.travelzoo.com 503 Service Unavailable\n",
      "www.nordvpn.com 301 Moved Permanently\n",
      "www.imlive.com 301 Moved Permanently\n",
      "www.mmo-champion.com 301 Moved Permanently\n",
      "www.curse.com 302 Found\n",
      "www.lufthansa.com 503 Service Unavailable\n",
      "www.thefind.com 503 Service Temporarily Unavailable\n",
      "www.nyu.edu 403 Forbidden\n",
      "www.tomshardware.com 416 Requested Range Not Satisfiable\n",
      "www.myegy.com 301 Moved Permanently\n",
      "www.hm.com 302 Moved Temporarily\n",
      "www.emedicine.medscape.com 301 Moved Permanently\n",
      "www.staples.com 403 Forbidden\n",
      "www.www.coursera.org [Errno -2] Name or service not known\n",
      "www.sun.ac.za 302 Redirect\n",
      "www.planetminecraft.com 403 Forbidden\n",
      "www.translate.google.com 301 Moved Permanently\n",
      "www.sciencedirect.com 503 Service Unavailable\n",
      "www.elance.com 301 Moved Permanently\n",
      "www.netflix.com 405 Method Not Allowed\n",
      "www.change.org 302 Moved Temporarily\n",
      "www.justanswer.com 503 Service Unavailable\n",
      "www.zh.greatfire.org [Errno -2] Name or service not known\n",
      "www.costco.com 403 Forbidden\n",
      "www.get.ironsocket.com [Errno -2] Name or service not known\n",
      "www.quikr.com 403 Forbidden\n",
      "www.pinterest.com 301 https://www.pinterest.com/\n",
      "www.autotrader.com 503 Service Unavailable\n"
     ]
    }
   ],
   "source": [
    "sIP_info['http_domain2'] = retry_domain['domain'].apply(lambda x: get_http_code('www.'+x))"
   ]
  },
  {
   "cell_type": "code",
   "execution_count": 194,
   "metadata": {
    "collapsed": true
   },
   "outputs": [
    {
     "data": {
      "text/html": [
       "<div style=\"max-height:1000px;max-width:1500px;overflow:auto;\">\n",
       "<table border=\"1\" class=\"dataframe\">\n",
       "  <thead>\n",
       "    <tr style=\"text-align: right;\">\n",
       "      <th></th>\n",
       "      <th>sIP</th>\n",
       "      <th>domain</th>\n",
       "      <th>subcat</th>\n",
       "      <th>dig</th>\n",
       "      <th>DNS_contains</th>\n",
       "      <th>http_domain</th>\n",
       "      <th>http_domain2</th>\n",
       "    </tr>\n",
       "  </thead>\n",
       "  <tbody>\n",
       "    <tr>\n",
       "      <th>35 </th>\n",
       "      <td>  23.235.47.133</td>\n",
       "      <td> fortawesome.github.io</td>\n",
       "      <td> [kids_and_teens]</td>\n",
       "      <td>           [github.map.fastly.net., 199.27.75.133]</td>\n",
       "      <td> False</td>\n",
       "      <td> 404</td>\n",
       "      <td> 404</td>\n",
       "    </tr>\n",
       "    <tr>\n",
       "      <th>281</th>\n",
       "      <td> 54.243.110.245</td>\n",
       "      <td>      www.coursera.org</td>\n",
       "      <td>      [reference]</td>\n",
       "      <td> [54.230.160.54, 54.230.160.196, 54.230.161.84,...</td>\n",
       "      <td> False</td>\n",
       "      <td>  -1</td>\n",
       "      <td>  -1</td>\n",
       "    </tr>\n",
       "    <tr>\n",
       "      <th>376</th>\n",
       "      <td>  54.230.219.62</td>\n",
       "      <td>      zh.greatfire.org</td>\n",
       "      <td>         [circum]</td>\n",
       "      <td> [greatfire.org., 104.20.19.204, 104.20.16.204,...</td>\n",
       "      <td> False</td>\n",
       "      <td> 403</td>\n",
       "      <td>  -1</td>\n",
       "    </tr>\n",
       "    <tr>\n",
       "      <th>463</th>\n",
       "      <td>   198.41.185.7</td>\n",
       "      <td>    get.ironsocket.com</td>\n",
       "      <td>            [vpn]</td>\n",
       "      <td>                      [198.41.185.7, 198.41.184.7]</td>\n",
       "      <td>  True</td>\n",
       "      <td> 403</td>\n",
       "      <td>  -1</td>\n",
       "    </tr>\n",
       "  </tbody>\n",
       "</table>\n",
       "</div>"
      ],
      "text/plain": [
       "                sIP                 domain            subcat  \\\n",
       "35    23.235.47.133  fortawesome.github.io  [kids_and_teens]   \n",
       "281  54.243.110.245       www.coursera.org       [reference]   \n",
       "376   54.230.219.62       zh.greatfire.org          [circum]   \n",
       "463    198.41.185.7     get.ironsocket.com             [vpn]   \n",
       "\n",
       "                                                   dig DNS_contains  \\\n",
       "35             [github.map.fastly.net., 199.27.75.133]        False   \n",
       "281  [54.230.160.54, 54.230.160.196, 54.230.161.84,...        False   \n",
       "376  [greatfire.org., 104.20.19.204, 104.20.16.204,...        False   \n",
       "463                       [198.41.185.7, 198.41.184.7]         True   \n",
       "\n",
       "     http_domain  http_domain2  \n",
       "35           404           404  \n",
       "281           -1            -1  \n",
       "376          403            -1  \n",
       "463          403            -1  "
      ]
     },
     "execution_count": 194,
     "metadata": {},
     "output_type": "execute_result"
    }
   ],
   "source": [
    "#sIP_info[ (sIP_info['http_domain']!=200) & (~sIP_info['http_domain2'].isin([200, 301, 302, 503, 403, 416, 405]))\n",
    "#         & (sIP_info['domain']!='torDir')]"
   ]
  },
  {
   "cell_type": "markdown",
   "metadata": {},
   "source": [
    "#### Bad Domains to be culled (also rechecked manually by browser)\n",
    "- fortawesome.github.io: doesn't exist anymore\n",
    "\n",
    "#### good domains:\n",
    "- 302, 301 in http_domain2\n",
    "- 503, 416, 403, 500 exist but are weird and firewalled\n",
    "- tomshardware.com: can't be reached (gets a suspicious activity message from distilnetworks) but reacheable by www. on a browser\n",
    "- justice.gov.za: 403 forbidden, but reacheable by www. and /home\n",
    "- sun.ac.za: 403 forbidden, but reacheable by www. and /home\n",
    "- planetminecraft.com: redirects to www.planetminecraftcom. Very popular but unreacheable by urllib, httplib, curl,\n",
    "- greatfire, ironsocket seem to be reacheable over https but not using curl http etc."
   ]
  },
  {
   "cell_type": "markdown",
   "metadata": {},
   "source": [
    "#### HTTP Check ipaddr\n",
    "- http connect to ipaddr\n",
    "    - store the error code (should be 200)\n",
    "    - if 'domain' occurs in valid (200) web page, return 200\n",
    "    - if webpage is valid (200) but domain doesn't occur, return 0\n",
    "        - these are usua;lly ngix services, apache etc, with open ports\n",
    "    - if return code is not 200, then return the error code or -1 |for timeouts\n",
    "    - also store all error info in df_http_error_ipaddr"
   ]
  },
  {
   "cell_type": "code",
   "execution_count": 25,
   "metadata": {
    "collapsed": false
   },
   "outputs": [
    {
     "name": "stdout",
     "output_type": "stream",
     "text": [
      "302\n"
     ]
    }
   ],
   "source": [
    "def get_http_ipaddr(ipaddr, domain):\n",
    "    try:\n",
    "        res = requests.get(\"http://\"+ipaddr, headers={'host':domain}, allow_redirects=False)\n",
    "        code = res.status_code\n",
    "        page = res.content\n",
    "        \n",
    "        if code == 200 and not(domain in page):\n",
    "            return 0\n",
    "        else:\n",
    "            return code\n",
    "        \n",
    "    except requests.exceptions.ConnectionError, e:\n",
    "        print ipaddr, domain, \"Connection timed out?\", e\n",
    "        return -1\n",
    "p = get_http_ipaddr(\"198.41.208.142\", \"reddit.com\")\n",
    "print p "
   ]
  },
  {
   "cell_type": "code",
   "execution_count": 231,
   "metadata": {
    "collapsed": true
   },
   "outputs": [
    {
     "name": "stdout",
     "output_type": "stream",
     "text": [
      "54.243.180.185 popsugar.com <urlopen error [Errno -2] Name or service not known>\n",
      "212.1.209.9 000webhost.com <urlopen error [Errno -2] Name or service not known>\n",
      "54.173.224.102 epicurious.com <urlopen error timed out>\n",
      "216.196.118.245 goldenfrog.com <urlopen error [Errno 111] Connection refused>\n",
      "107.20.154.40 strava.com <urlopen error timed out>\n",
      "66.6.21.133 imlive.com ''\n",
      "203.176.113.78 indianrail.gov.in [Errno 104] Connection reset by peer\n",
      "109.201.133.195 bitcointalk.org <urlopen error [Errno 113] No route to host>\n",
      "96.44.181.66 voyeurweb.com <urlopen error [Errno -2] Name or service not known>\n",
      "212.58.244.20 bbc.co.uk ''\n",
      "54.206.85.5 smh.com.au <urlopen error timed out>\n",
      "218.248.43.159 indiapost.gov.in <urlopen error timed out>\n",
      "98.158.60.206 victoriassecret.com ''\n",
      "129.35.201.80 lufthansa.com <urlopen error [Errno -2] Name or service not known>\n",
      "206.112.186.66 lowes.com timed out\n",
      "54.85.98.80 lifehack.org <urlopen error timed out>\n",
      "54.173.13.19 lonelyplanet.com <urlopen error timed out>\n",
      "192.227.157.40 safervpn.com <urlopen error [Errno -2] Name or service not known>\n",
      "23.23.208.240 minecraft.net <urlopen error timed out>\n",
      "54.225.210.86 dorkly.com <urlopen error timed out>\n",
      "207.242.93.24 accuweather.com timed out\n",
      "119.81.109.23 cricbuzz.com <urlopen error timed out>\n",
      "54.164.68.43 popsci.com <urlopen error [Errno 111] Connection refused>\n",
      "52.74.69.52 zomato.com <urlopen error timed out>\n",
      "54.174.139.140 wired.com <urlopen error timed out>\n",
      "54.246.159.107 livescore.com <urlopen error [Errno -2] Name or service not known>\n",
      "196.35.152.185 rsg.co.za timed out\n",
      "54.243.110.245 www.coursera.org <urlopen error timed out>\n",
      "163.192.187.17 latimes.com <urlopen error [Errno -2] Name or service not known>\n",
      "162.79.29.12 usda.gov [Errno 104] Connection reset by peer\n",
      "69.55.61.163 y8.com <urlopen error timed out>\n",
      "198.81.200.2 sciencedirect.com timed out\n",
      "67.135.105.50 caranddriver.com <urlopen error timed out>\n",
      "199.168.13.77 nature.com [Errno 104] Connection reset by peer\n",
      "166.123.218.220 irs.gov timed out\n",
      "54.227.15.64 pbskids.org <urlopen error timed out>\n",
      "161.69.13.140 siteadvisor.com timed out\n",
      "192.69.95.83 equalit.ie ''\n",
      "108.160.165.20 www.dropbox.com ''\n",
      "194.109.206.212 torDir <urlopen error timed out>\n"
     ]
    }
   ],
   "source": [
    "sIP_info['http_ipaddr1'] = sIP_info.apply(lambda row: get_http_ipaddr(row['sIP'], row['domain']), axis=1)"
   ]
  },
  {
   "cell_type": "code",
   "execution_count": null,
   "metadata": {
    "collapsed": false
   },
   "outputs": [],
   "source": [
    "http_error_ipaddr = defaultdict(list)\n",
    "def get_http_ipaddr2(ipaddr, domain):\n",
    "    try:\n",
    "        req =  urllib2.urlopen(\"http://\"+ipaddr+\"/\", timeout=2)\n",
    "        code = req.getcode()\n",
    "        readreq = req.read()\n",
    "        if (code==200):\n",
    "            http_error_ipaddr['html'].append(readreq)\n",
    "        else:\n",
    "            http_error_ipaddr['html'].append('')\n",
    "            \n",
    "        if (code==200) and not (domain in readreq):\n",
    "            #print \"domain not in page 200:\", ipaddr, domain, code\n",
    "            code = 0\n",
    "    except urllib2.HTTPError, err:\n",
    "        code = err.code\n",
    "        http_error_ipaddr['html'].append(str(err))\n",
    "    except Exception, e:\n",
    "        print ipaddr, domain, e\n",
    "        http_error_ipaddr['html'].append(str(e))\n",
    "        code = -1\n",
    "        \n",
    "    http_error_ipaddr['domain'].append(domain)\n",
    "    http_error_ipaddr['sIP'].append(ipaddr)\n",
    "    http_error_ipaddr['code'].append(code)\n",
    "\n",
    "    return code\n",
    "\n",
    "# check\n",
    "ipaddr = '171.67.215.200'\n",
    "domain = 'stanford.edu'\n",
    "print get_http_ipaddr(ipaddr, domain)\n",
    "row = sIP_info.iloc[10]\n",
    "print get_http_ipaddr(row['sIP'], row['domain'])"
   ]
  },
  {
   "cell_type": "code",
   "execution_count": null,
   "metadata": {
    "collapsed": true
   },
   "outputs": [],
   "source": [
    "sIP_info['http_ipaddr2'] = sIP_info.apply(lambda row: get_http_ipaddr2(row['sIP'], row['domain']), axis=1)"
   ]
  },
  {
   "cell_type": "markdown",
   "metadata": {},
   "source": [
    "### Take poll of both"
   ]
  },
  {
   "cell_type": "code",
   "execution_count": null,
   "metadata": {
    "collapsed": true
   },
   "outputs": [],
   "source": [
    "sIP_info['sIP_http_reach'] =  df_domain_IP_mapping['http_ipaddr1'].isin(range(200,400)) |\n",
    "                                                df_domain_IP_mapping['http_ipaddr2'].isin(range(200,400)) ]"
   ]
  },
  {
   "cell_type": "markdown",
   "metadata": {},
   "source": [
    "#### Save errors and all current domain-ip mapping info"
   ]
  },
  {
   "cell_type": "code",
   "execution_count": 256,
   "metadata": {
    "collapsed": true
   },
   "outputs": [],
   "source": [
    "df_http_error_ipaddr = pd.DataFrame(http_error_ipaddr)\n",
    "df_http_error_ipaddr.to_pickle(RESULTS + \"df_http_error_ipaddr.pkl\")\n",
    "\n",
    "\n",
    "df_domain_IP_mapping = sIP_info.copy()\n",
    "df_domain_IP_mapping.to_pickle(RESULTS + \"df_domain_IP_mapping.pkl\")"
   ]
  },
  {
   "cell_type": "markdown",
   "metadata": {},
   "source": [
    "#3. Ground Truth: high censorship ratio check\n",
    "- load original data\n",
    "- get censorship by country for each site\n",
    "- add total, censorship ratio, 1, 3 to sIP_info table"
   ]
  },
  {
   "cell_type": "markdown",
   "metadata": {},
   "source": [
    "#### Load original data (contains only 540 sIPs not 580)"
   ]
  },
  {
   "cell_type": "code",
   "execution_count": 60,
   "metadata": {
    "collapsed": true
   },
   "outputs": [],
   "source": [
    "df_all = pd.read_pickle(\"data/case_detected_all_20150412.pkl\").reset_index()\n",
    "df_all2 = pd.read_pickle(\"data/case_detected_all_20150422.pkl\").reset_index()\n",
    "df_full = pd.concat([df_all, df_all2])"
   ]
  },
  {
   "cell_type": "markdown",
   "metadata": {},
   "source": [
    "#### Get ASNs info for gIPs for queries later"
   ]
  },
  {
   "cell_type": "code",
   "execution_count": 72,
   "metadata": {
    "collapsed": false
   },
   "outputs": [
    {
     "data": {
      "text/html": [
       "<div style=\"max-height:1000px;max-width:1500px;overflow:auto;\">\n",
       "<table border=\"1\" class=\"dataframe\">\n",
       "  <thead>\n",
       "    <tr style=\"text-align: right;\">\n",
       "      <th></th>\n",
       "      <th>sIP</th>\n",
       "      <th>domain</th>\n",
       "      <th>subcat</th>\n",
       "      <th>gIP</th>\n",
       "      <th>ASN</th>\n",
       "      <th>country</th>\n",
       "      <th>case</th>\n",
       "      <th>port</th>\n",
       "    </tr>\n",
       "  </thead>\n",
       "  <tbody>\n",
       "    <tr>\n",
       "      <th>0</th>\n",
       "      <td>  171.67.215.200</td>\n",
       "      <td> stanford.edu</td>\n",
       "      <td> regional|reference</td>\n",
       "      <td> 61.236.159.57</td>\n",
       "      <td> 9394</td>\n",
       "      <td> CN</td>\n",
       "      <td> 2</td>\n",
       "      <td> 80</td>\n",
       "    </tr>\n",
       "    <tr>\n",
       "      <th>1</th>\n",
       "      <td>  171.67.215.200</td>\n",
       "      <td> stanford.edu</td>\n",
       "      <td> regional|reference</td>\n",
       "      <td> 61.236.159.57</td>\n",
       "      <td> 9394</td>\n",
       "      <td> CN</td>\n",
       "      <td> 2</td>\n",
       "      <td> 80</td>\n",
       "    </tr>\n",
       "    <tr>\n",
       "      <th>2</th>\n",
       "      <td> 162.159.244.215</td>\n",
       "      <td> sheknows.com</td>\n",
       "      <td>            society</td>\n",
       "      <td> 61.236.159.57</td>\n",
       "      <td> 9394</td>\n",
       "      <td> CN</td>\n",
       "      <td> 3</td>\n",
       "      <td> 80</td>\n",
       "    </tr>\n",
       "    <tr>\n",
       "      <th>3</th>\n",
       "      <td>   196.205.23.93</td>\n",
       "      <td>  masrawy.com</td>\n",
       "      <td>              world</td>\n",
       "      <td> 61.236.159.57</td>\n",
       "      <td> 9394</td>\n",
       "      <td> CN</td>\n",
       "      <td> 2</td>\n",
       "      <td> 80</td>\n",
       "    </tr>\n",
       "    <tr>\n",
       "      <th>4</th>\n",
       "      <td>   38.101.236.62</td>\n",
       "      <td>   dit-inc.us</td>\n",
       "      <td>             circum</td>\n",
       "      <td> 61.236.159.57</td>\n",
       "      <td> 9394</td>\n",
       "      <td> CN</td>\n",
       "      <td> 1</td>\n",
       "      <td> 80</td>\n",
       "    </tr>\n",
       "  </tbody>\n",
       "</table>\n",
       "</div>"
      ],
      "text/plain": [
       "               sIP        domain              subcat            gIP   ASN  \\\n",
       "0   171.67.215.200  stanford.edu  regional|reference  61.236.159.57  9394   \n",
       "1   171.67.215.200  stanford.edu  regional|reference  61.236.159.57  9394   \n",
       "2  162.159.244.215  sheknows.com             society  61.236.159.57  9394   \n",
       "3    196.205.23.93   masrawy.com               world  61.236.159.57  9394   \n",
       "4    38.101.236.62    dit-inc.us              circum  61.236.159.57  9394   \n",
       "\n",
       "  country  case  port  \n",
       "0      CN     2    80  \n",
       "1      CN     2    80  \n",
       "2      CN     3    80  \n",
       "3      CN     2    80  \n",
       "4      CN     1    80  "
      ]
     },
     "execution_count": 72,
     "metadata": {},
     "output_type": "execute_result"
    }
   ],
   "source": [
    "## for extra details about gIP, get the ASNs\n",
    "name_row = ['ASN', 'gIP', 'IPnet', 'country', 'agency', 'date', 'name']\n",
    "df_ASN_gIP = pd.read_csv(DATAPATH2 + \"all_asn_list.csv\", skiprows=1, delimiter='|', skipinitialspace=True,\n",
    "                      names=name_row,\n",
    "                      converters={y : lambda x: x.strip() for y in name_row})\n",
    "df_val = df_full.merge(df_ASN_gIP[['ASN', 'gIP']], on='gIP')\n",
    "df_val = df_val[['sIP', 'domain', 'subcat', 'gIP', 'ASN', 'country', 'case', 'port']]\n",
    "\n",
    "del df_ASN_gIP\n",
    "df_val.head()"
   ]
  },
  {
   "cell_type": "markdown",
   "metadata": {},
   "source": [
    "#### Helper functions to get censorship by country, and global censorship"
   ]
  },
  {
   "cell_type": "code",
   "execution_count": 73,
   "metadata": {
    "collapsed": true
   },
   "outputs": [],
   "source": [
    "## GET CENSORSHIP INFO\n",
    "def get_ratios(df_count):\n",
    "    ''' assume df_count is indexed'''\n",
    "    #df_count = dfin.groupby(['sIP', 'domain', 'subcat', 'slash24',\n",
    "    #'country', 'case'])['port'].count().unstack().fillna(0)\n",
    "    df_count['tot'] = df_count.sum(axis=1)\n",
    "    \n",
    "    df_count['err'] = 0\n",
    "    if (0 in df_count.columns):\n",
    "        df_count['err']+= df_count[0]\n",
    "    if (4 in df_count.columns):\n",
    "        df_count['err']+= df_count[4]\n",
    "\n",
    "    df_count['tot'] = df_count['tot'] - df_count['err']\n",
    "    \n",
    "    if 1 in df_count.columns:\n",
    "        df_count['case1'] = df_count[1]/df_count['tot']\n",
    "    if 2 in df_count.columns:\n",
    "        df_count['case2'] = df_count[2]/df_count['tot']\n",
    "    if 3 in df_count.columns:\n",
    "        df_count['case3'] = df_count[3]/df_count['tot']\n",
    "    return df_count\n",
    "\n",
    "def get_censorship_by_country_sIP(df_val, dimension='censorship'):\n",
    "    censorship = df_val.groupby(['sIP', 'domain', 'subcat',\n",
    "                                 'country', 'case'])['port'].count().unstack().fillna(0)\n",
    "    get_ratios(censorship)\n",
    "    global_censorship = df_val.groupby(['sIP', 'domain',\n",
    "                                        'subcat', 'case'])['port'].count().unstack().fillna(0)\n",
    "    get_ratios(global_censorship)\n",
    "    if dimension == 'censorship':\n",
    "        censor_country = (1 - censorship['case2']).unstack()\n",
    "        censor_global = (1 - global_censorship['case2'])\n",
    "    else:\n",
    "        # dimension can be err, tot, case1, case2, case3, 1, 2, 3, 4, 0 apart from censorship\n",
    "        censor_country = censorship[dimension].unstack()\n",
    "        censor_global = global_censorship[dimension]\n",
    "        \n",
    "    censor_country['global'] = censor_global\n",
    "    #censor_country= censor_country.reset_index()\n",
    "    return censor_country"
   ]
  },
  {
   "cell_type": "markdown",
   "metadata": {},
   "source": [
    "#### Get censorship by country for full dataset (including april 12: global will be wrong due to bias)"
   ]
  },
  {
   "cell_type": "code",
   "execution_count": 74,
   "metadata": {
    "collapsed": false
   },
   "outputs": [
    {
     "data": {
      "text/html": [
       "<div style=\"max-height:1000px;max-width:1500px;overflow:auto;\">\n",
       "<table border=\"1\" class=\"dataframe\">\n",
       "  <thead>\n",
       "    <tr style=\"text-align: right;\">\n",
       "      <th>country</th>\n",
       "      <th>sIP</th>\n",
       "      <th>domain</th>\n",
       "      <th>subcat</th>\n",
       "      <th>US</th>\n",
       "      <th>SE</th>\n",
       "      <th>US-tot</th>\n",
       "      <th>SE-tot</th>\n",
       "      <th>US-1</th>\n",
       "      <th>US-3</th>\n",
       "      <th>SE-1</th>\n",
       "      <th>SE-3</th>\n",
       "    </tr>\n",
       "  </thead>\n",
       "  <tbody>\n",
       "    <tr>\n",
       "      <th>0</th>\n",
       "      <td>   1.209.122.23</td>\n",
       "      <td>      riseup.net</td>\n",
       "      <td>           circum</td>\n",
       "      <td> 0.051724</td>\n",
       "      <td> 0.085714</td>\n",
       "      <td> 116</td>\n",
       "      <td> 35</td>\n",
       "      <td>  1</td>\n",
       "      <td>  5</td>\n",
       "      <td> 0</td>\n",
       "      <td>  3</td>\n",
       "    </tr>\n",
       "    <tr>\n",
       "      <th>1</th>\n",
       "      <td>   103.6.182.20</td>\n",
       "      <td>       agoda.com</td>\n",
       "      <td> world|recreation</td>\n",
       "      <td> 0.523810</td>\n",
       "      <td> 0.189655</td>\n",
       "      <td> 147</td>\n",
       "      <td> 58</td>\n",
       "      <td> 67</td>\n",
       "      <td> 10</td>\n",
       "      <td> 5</td>\n",
       "      <td>  6</td>\n",
       "    </tr>\n",
       "    <tr>\n",
       "      <th>2</th>\n",
       "      <td> 104.130.112.72</td>\n",
       "      <td> express-vpn.com</td>\n",
       "      <td>              vpn</td>\n",
       "      <td> 0.087719</td>\n",
       "      <td> 0.098039</td>\n",
       "      <td>  57</td>\n",
       "      <td> 51</td>\n",
       "      <td>  0</td>\n",
       "      <td>  5</td>\n",
       "      <td> 0</td>\n",
       "      <td>  5</td>\n",
       "    </tr>\n",
       "    <tr>\n",
       "      <th>3</th>\n",
       "      <td>    104.16.5.13</td>\n",
       "      <td>      change.org</td>\n",
       "      <td>          society</td>\n",
       "      <td> 0.989011</td>\n",
       "      <td> 1.000000</td>\n",
       "      <td>  91</td>\n",
       "      <td> 63</td>\n",
       "      <td>  0</td>\n",
       "      <td> 90</td>\n",
       "      <td> 0</td>\n",
       "      <td> 63</td>\n",
       "    </tr>\n",
       "    <tr>\n",
       "      <th>4</th>\n",
       "      <td>   104.16.7.118</td>\n",
       "      <td>       petmd.com</td>\n",
       "      <td>           health</td>\n",
       "      <td> 1.000000</td>\n",
       "      <td> 1.000000</td>\n",
       "      <td>  99</td>\n",
       "      <td> 51</td>\n",
       "      <td>  1</td>\n",
       "      <td> 98</td>\n",
       "      <td> 0</td>\n",
       "      <td> 51</td>\n",
       "    </tr>\n",
       "  </tbody>\n",
       "</table>\n",
       "</div>"
      ],
      "text/plain": [
       "country             sIP           domain            subcat        US  \\\n",
       "0          1.209.122.23       riseup.net            circum  0.051724   \n",
       "1          103.6.182.20        agoda.com  world|recreation  0.523810   \n",
       "2        104.130.112.72  express-vpn.com               vpn  0.087719   \n",
       "3           104.16.5.13       change.org           society  0.989011   \n",
       "4          104.16.7.118        petmd.com            health  1.000000   \n",
       "\n",
       "country        SE  US-tot  SE-tot  US-1  US-3  SE-1  SE-3  \n",
       "0        0.085714     116      35     1     5     0     3  \n",
       "1        0.189655     147      58    67    10     5     6  \n",
       "2        0.098039      57      51     0     5     0     5  \n",
       "3        1.000000      91      63     0    90     0    63  \n",
       "4        1.000000      99      51     1    98     0    51  "
      ]
     },
     "execution_count": 74,
     "metadata": {},
     "output_type": "execute_result"
    }
   ],
   "source": [
    "censorship = get_censorship_by_country_sIP(df_val)[['US','SE']]\n",
    "totals = get_censorship_by_country_sIP(df_val, 'tot')[['US','SE']]\n",
    "case1 = get_censorship_by_country_sIP(df_val, 1)[['US','SE']]\n",
    "case3 = get_censorship_by_country_sIP(df_val, 3)[['US','SE']]\n",
    "\n",
    "censorship['US-tot'] = totals['US']\n",
    "censorship['SE-tot'] = totals['SE']\n",
    "censorship['US-1'] = case1['US']\n",
    "censorship['US-3'] = case3['US']\n",
    "censorship['SE-1'] = case1['SE']\n",
    "censorship['SE-3'] = case3['SE']\n",
    "\n",
    "del totals, case1, case3, df_val\n",
    "\n",
    "censorship = censorship.reset_index()\n",
    "censorship.head()"
   ]
  },
  {
   "cell_type": "markdown",
   "metadata": {},
   "source": [
    "#### Merge these ratios back with sIP_info table"
   ]
  },
  {
   "cell_type": "code",
   "execution_count": 261,
   "metadata": {
    "collapsed": true
   },
   "outputs": [],
   "source": [
    "sIP_info = df_sIP_info.copy()"
   ]
  },
  {
   "cell_type": "code",
   "execution_count": 264,
   "metadata": {
    "collapsed": false
   },
   "outputs": [],
   "source": [
    "df_censorship_US_SE = sIP_info.merge(censorship[['sIP', 'US', 'US-tot', 'US-1', 'US-3',\n",
    "                                                 'SE', 'SE-tot', 'SE-1', 'SE-3']], on='sIP')"
   ]
  },
  {
   "cell_type": "code",
   "execution_count": 272,
   "metadata": {
    "collapsed": false
   },
   "outputs": [
    {
     "data": {
      "text/html": [
       "<div style=\"max-height:1000px;max-width:1500px;overflow:auto;\">\n",
       "<table border=\"1\" class=\"dataframe\">\n",
       "  <thead>\n",
       "    <tr style=\"text-align: right;\">\n",
       "      <th></th>\n",
       "      <th>sIP</th>\n",
       "      <th>domain</th>\n",
       "      <th>subcat</th>\n",
       "      <th>US</th>\n",
       "      <th>US-tot</th>\n",
       "      <th>US-1</th>\n",
       "      <th>US-3</th>\n",
       "      <th>SE</th>\n",
       "      <th>SE-tot</th>\n",
       "      <th>SE-1</th>\n",
       "      <th>SE-3</th>\n",
       "    </tr>\n",
       "  </thead>\n",
       "  <tbody>\n",
       "    <tr>\n",
       "      <th>0</th>\n",
       "      <td> 216.239.38.21</td>\n",
       "      <td> uproxy.org</td>\n",
       "      <td> [circum]</td>\n",
       "      <td> 0.563218</td>\n",
       "      <td> 87</td>\n",
       "      <td> 0</td>\n",
       "      <td> 49</td>\n",
       "      <td> 0.736842</td>\n",
       "      <td> 19</td>\n",
       "      <td> 0</td>\n",
       "      <td> 14</td>\n",
       "    </tr>\n",
       "  </tbody>\n",
       "</table>\n",
       "</div>"
      ],
      "text/plain": [
       "             sIP      domain    subcat        US  US-tot  US-1  US-3  \\\n",
       "0  216.239.38.21  uproxy.org  [circum]  0.563218      87     0    49   \n",
       "\n",
       "         SE  SE-tot  SE-1  SE-3  \n",
       "0  0.736842      19     0    14  "
      ]
     },
     "execution_count": 272,
     "metadata": {},
     "output_type": "execute_result"
    }
   ],
   "source": [
    "df_censorship_US_SE.to_pickle(RESULTS + \"df_censorship_US_SE.pkl\")\n",
    "df_censorship_US_SE.head(1)"
   ]
  },
  {
   "cell_type": "markdown",
   "metadata": {},
   "source": [
    "# MERGE ALL TOGETHER\n",
    "- ip_reachability\n",
    "- domain-ip mapping\n",
    "- censorship ratios"
   ]
  },
  {
   "cell_type": "markdown",
   "metadata": {},
   "source": [
    "#MAIN: LOAD DATA DIRECTLY DONT RUN ABOVE"
   ]
  },
  {
   "cell_type": "code",
   "execution_count": 30,
   "metadata": {
    "collapsed": true
   },
   "outputs": [],
   "source": [
    "df_IP_reachability = pd.read_pickle(RESULTS + \"df_IP_reachability.pkl\")\n",
    "df_domain_IP_mapping = pd.read_pickle(RESULTS + \"df_domain_IP_mapping.pkl\")\n",
    "df_censorship_US_SE = pd.read_pickle(RESULTS + \"df_censorship_US_SE.pkl\")"
   ]
  },
  {
   "cell_type": "markdown",
   "metadata": {},
   "source": [
    "### CAVEATS: sIP, domain are primary keys to merge on\n",
    "- don't use subcat: lists are unhashable so drop it in two frames and only keep it in the third\n",
    "- the actual data (df_censorship) contains only 540 entries, so use outer joins"
   ]
  },
  {
   "cell_type": "code",
   "execution_count": 31,
   "metadata": {
    "collapsed": false
   },
   "outputs": [
    {
     "name": "stdout",
     "output_type": "stream",
     "text": [
      "580\n"
     ]
    },
    {
     "data": {
      "text/html": [
       "<div style=\"max-height:1000px;max-width:1500px;overflow:auto;\">\n",
       "<table border=\"1\" class=\"dataframe\">\n",
       "  <thead>\n",
       "    <tr style=\"text-align: right;\">\n",
       "      <th></th>\n",
       "      <th>sIP</th>\n",
       "      <th>domain</th>\n",
       "      <th>subcat</th>\n",
       "      <th>IP.dig_x</th>\n",
       "      <th>IP.anycast</th>\n",
       "      <th>IP.slash24</th>\n",
       "      <th>IP.slash24_shared</th>\n",
       "    </tr>\n",
       "  </thead>\n",
       "  <tbody>\n",
       "    <tr>\n",
       "      <th>0</th>\n",
       "      <td>  23.235.33.64</td>\n",
       "      <td>   deadspin.com</td>\n",
       "      <td>                         [sports]</td>\n",
       "      <td>                                           []</td>\n",
       "      <td>                        -1</td>\n",
       "      <td>  23.235.33</td>\n",
       "      <td> 2</td>\n",
       "    </tr>\n",
       "    <tr>\n",
       "      <th>1</th>\n",
       "      <td> 23.235.33.217</td>\n",
       "      <td>      vimeo.com</td>\n",
       "      <td>                      [computers]</td>\n",
       "      <td>                                           []</td>\n",
       "      <td>                        -1</td>\n",
       "      <td>  23.235.33</td>\n",
       "      <td> 2</td>\n",
       "    </tr>\n",
       "    <tr>\n",
       "      <th>2</th>\n",
       "      <td> 216.239.38.21</td>\n",
       "      <td>     uproxy.org</td>\n",
       "      <td>                         [circum]</td>\n",
       "      <td>                     [any-in-2615.1e100.net.]</td>\n",
       "      <td> Google Inc. United States</td>\n",
       "      <td> 216.239.38</td>\n",
       "      <td> 1</td>\n",
       "    </tr>\n",
       "    <tr>\n",
       "      <th>3</th>\n",
       "      <td> 41.185.22.146</td>\n",
       "      <td> medihelp.co.za</td>\n",
       "      <td>                          [world]</td>\n",
       "      <td>                                           []</td>\n",
       "      <td>                        -1</td>\n",
       "      <td>  41.185.22</td>\n",
       "      <td> 1</td>\n",
       "    </tr>\n",
       "    <tr>\n",
       "      <th>4</th>\n",
       "      <td> 184.73.236.82</td>\n",
       "      <td>    history.com</td>\n",
       "      <td> [kids_and_teens, arts, business]</td>\n",
       "      <td> [ec2-184-73-236-82.compute-1.amazonaws.com.]</td>\n",
       "      <td>          us-east-1|AMAZON</td>\n",
       "      <td> 184.73.236</td>\n",
       "      <td> 1</td>\n",
       "    </tr>\n",
       "  </tbody>\n",
       "</table>\n",
       "</div>"
      ],
      "text/plain": [
       "             sIP          domain                            subcat  \\\n",
       "0   23.235.33.64    deadspin.com                          [sports]   \n",
       "1  23.235.33.217       vimeo.com                       [computers]   \n",
       "2  216.239.38.21      uproxy.org                          [circum]   \n",
       "3  41.185.22.146  medihelp.co.za                           [world]   \n",
       "4  184.73.236.82     history.com  [kids_and_teens, arts, business]   \n",
       "\n",
       "                                       IP.dig_x                 IP.anycast  \\\n",
       "0                                            []                         -1   \n",
       "1                                            []                         -1   \n",
       "2                      [any-in-2615.1e100.net.]  Google Inc. United States   \n",
       "3                                            []                         -1   \n",
       "4  [ec2-184-73-236-82.compute-1.amazonaws.com.]           us-east-1|AMAZON   \n",
       "\n",
       "   IP.slash24  IP.slash24_shared  \n",
       "0   23.235.33                  2  \n",
       "1   23.235.33                  2  \n",
       "2  216.239.38                  1  \n",
       "3   41.185.22                  1  \n",
       "4  184.73.236                  1  "
      ]
     },
     "execution_count": 31,
     "metadata": {},
     "output_type": "execute_result"
    }
   ],
   "source": [
    "print len(df_IP_reachability)\n",
    "COLUMNS = {name: 'IP.'+name for name in df_IP_reachability.columns if not name in ['sIP', 'domain', 'subcat']}\n",
    "df1 = df_IP_reachability.rename(columns = COLUMNS)\n",
    "df1.head()"
   ]
  },
  {
   "cell_type": "code",
   "execution_count": 32,
   "metadata": {
    "collapsed": false
   },
   "outputs": [
    {
     "name": "stdout",
     "output_type": "stream",
     "text": [
      "580\n"
     ]
    },
    {
     "data": {
      "text/html": [
       "<div style=\"max-height:1000px;max-width:1500px;overflow:auto;\">\n",
       "<table border=\"1\" class=\"dataframe\">\n",
       "  <thead>\n",
       "    <tr style=\"text-align: right;\">\n",
       "      <th></th>\n",
       "      <th>sIP</th>\n",
       "      <th>domain</th>\n",
       "      <th>subcat</th>\n",
       "      <th>DOMAIN.dig</th>\n",
       "      <th>DOMAIN.DNS_contains</th>\n",
       "      <th>DOMAIN.http_domain</th>\n",
       "      <th>DOMAIN.http_domain2</th>\n",
       "      <th>DOMAIN.http_ipaddr1</th>\n",
       "      <th>DOMAIN.http_ipaddr2</th>\n",
       "      <th>DOMAIN.sIP_http_reach</th>\n",
       "    </tr>\n",
       "  </thead>\n",
       "  <tbody>\n",
       "    <tr>\n",
       "      <th>0</th>\n",
       "      <td>  23.235.33.64</td>\n",
       "      <td>                  deadspin.com</td>\n",
       "      <td>                         [sports]</td>\n",
       "      <td> [104.156.81.64, 23.235.33.64, 104.156.85.64, 2...</td>\n",
       "      <td>  True</td>\n",
       "      <td> 200</td>\n",
       "      <td> NaN</td>\n",
       "      <td> 500</td>\n",
       "      <td> 200</td>\n",
       "      <td>  True</td>\n",
       "    </tr>\n",
       "    <tr>\n",
       "      <th>1</th>\n",
       "      <td> 216.239.38.21</td>\n",
       "      <td>                    uproxy.org</td>\n",
       "      <td>                         [circum]</td>\n",
       "      <td> [216.239.32.21, 216.239.38.21, 216.239.36.21, ...</td>\n",
       "      <td>  True</td>\n",
       "      <td>  -1</td>\n",
       "      <td> 302</td>\n",
       "      <td> 404</td>\n",
       "      <td> 301</td>\n",
       "      <td>  True</td>\n",
       "    </tr>\n",
       "    <tr>\n",
       "      <th>2</th>\n",
       "      <td> 41.185.22.146</td>\n",
       "      <td>                medihelp.co.za</td>\n",
       "      <td>                          [world]</td>\n",
       "      <td>                                   [41.185.22.146]</td>\n",
       "      <td>  True</td>\n",
       "      <td> 200</td>\n",
       "      <td> NaN</td>\n",
       "      <td> 200</td>\n",
       "      <td> 301</td>\n",
       "      <td>  True</td>\n",
       "    </tr>\n",
       "    <tr>\n",
       "      <th>3</th>\n",
       "      <td> 184.73.236.82</td>\n",
       "      <td>                   history.com</td>\n",
       "      <td> [kids_and_teens, arts, business]</td>\n",
       "      <td>                                   [107.21.207.44]</td>\n",
       "      <td> False</td>\n",
       "      <td> 200</td>\n",
       "      <td> NaN</td>\n",
       "      <td> 404</td>\n",
       "      <td> 404</td>\n",
       "      <td> False</td>\n",
       "    </tr>\n",
       "    <tr>\n",
       "      <th>4</th>\n",
       "      <td> 23.212.53.230</td>\n",
       "      <td> navbharattimes.indiatimes.com</td>\n",
       "      <td>                    [news, world]</td>\n",
       "      <td> [www.indiatimes.com.edgesuite.net., a1934.g.ak...</td>\n",
       "      <td> False</td>\n",
       "      <td> 200</td>\n",
       "      <td> NaN</td>\n",
       "      <td> 400</td>\n",
       "      <td> 200</td>\n",
       "      <td>  True</td>\n",
       "    </tr>\n",
       "  </tbody>\n",
       "</table>\n",
       "</div>"
      ],
      "text/plain": [
       "             sIP                         domain  \\\n",
       "0   23.235.33.64                   deadspin.com   \n",
       "1  216.239.38.21                     uproxy.org   \n",
       "2  41.185.22.146                 medihelp.co.za   \n",
       "3  184.73.236.82                    history.com   \n",
       "4  23.212.53.230  navbharattimes.indiatimes.com   \n",
       "\n",
       "                             subcat  \\\n",
       "0                          [sports]   \n",
       "1                          [circum]   \n",
       "2                           [world]   \n",
       "3  [kids_and_teens, arts, business]   \n",
       "4                     [news, world]   \n",
       "\n",
       "                                          DOMAIN.dig DOMAIN.DNS_contains  \\\n",
       "0  [104.156.81.64, 23.235.33.64, 104.156.85.64, 2...                True   \n",
       "1  [216.239.32.21, 216.239.38.21, 216.239.36.21, ...                True   \n",
       "2                                    [41.185.22.146]                True   \n",
       "3                                    [107.21.207.44]               False   \n",
       "4  [www.indiatimes.com.edgesuite.net., a1934.g.ak...               False   \n",
       "\n",
       "   DOMAIN.http_domain  DOMAIN.http_domain2  DOMAIN.http_ipaddr1  \\\n",
       "0                 200                  NaN                  500   \n",
       "1                  -1                  302                  404   \n",
       "2                 200                  NaN                  200   \n",
       "3                 200                  NaN                  404   \n",
       "4                 200                  NaN                  400   \n",
       "\n",
       "   DOMAIN.http_ipaddr2 DOMAIN.sIP_http_reach  \n",
       "0                  200                  True  \n",
       "1                  301                  True  \n",
       "2                  301                  True  \n",
       "3                  404                 False  \n",
       "4                  200                  True  "
      ]
     },
     "execution_count": 32,
     "metadata": {},
     "output_type": "execute_result"
    }
   ],
   "source": [
    "print len(df_domain_IP_mapping)\n",
    "#del df_domain_IP_mapping['subcat']\n",
    "COLUMNS = {name: 'DOMAIN.'+name for name in df_domain_IP_mapping.columns if not name in ['sIP', 'domain', 'subcat']}\n",
    "df2 = df_domain_IP_mapping.rename(columns = COLUMNS)\n",
    "#del df2['subcat']\n",
    "df2.head()"
   ]
  },
  {
   "cell_type": "code",
   "execution_count": 33,
   "metadata": {
    "collapsed": false
   },
   "outputs": [
    {
     "name": "stdout",
     "output_type": "stream",
     "text": [
      "540\n"
     ]
    },
    {
     "data": {
      "text/html": [
       "<div style=\"max-height:1000px;max-width:1500px;overflow:auto;\">\n",
       "<table border=\"1\" class=\"dataframe\">\n",
       "  <thead>\n",
       "    <tr style=\"text-align: right;\">\n",
       "      <th></th>\n",
       "      <th>sIP</th>\n",
       "      <th>domain</th>\n",
       "      <th>subcat</th>\n",
       "      <th>CENSOR.US</th>\n",
       "      <th>CENSOR.US-tot</th>\n",
       "      <th>CENSOR.US-1</th>\n",
       "      <th>CENSOR.US-3</th>\n",
       "      <th>CENSOR.SE</th>\n",
       "      <th>CENSOR.SE-tot</th>\n",
       "      <th>CENSOR.SE-1</th>\n",
       "      <th>CENSOR.SE-3</th>\n",
       "    </tr>\n",
       "  </thead>\n",
       "  <tbody>\n",
       "    <tr>\n",
       "      <th>0</th>\n",
       "      <td>   216.239.38.21</td>\n",
       "      <td>                    uproxy.org</td>\n",
       "      <td>                         [circum]</td>\n",
       "      <td> 0.563218</td>\n",
       "      <td> 87</td>\n",
       "      <td> 0</td>\n",
       "      <td> 49</td>\n",
       "      <td> 0.736842</td>\n",
       "      <td> 19</td>\n",
       "      <td> 0</td>\n",
       "      <td> 14</td>\n",
       "    </tr>\n",
       "    <tr>\n",
       "      <th>1</th>\n",
       "      <td>   41.185.22.146</td>\n",
       "      <td>                medihelp.co.za</td>\n",
       "      <td>                          [world]</td>\n",
       "      <td> 0.500000</td>\n",
       "      <td>  2</td>\n",
       "      <td> 1</td>\n",
       "      <td>  0</td>\n",
       "      <td> 0.000000</td>\n",
       "      <td>  3</td>\n",
       "      <td> 0</td>\n",
       "      <td>  0</td>\n",
       "    </tr>\n",
       "    <tr>\n",
       "      <th>2</th>\n",
       "      <td>   184.73.236.82</td>\n",
       "      <td>                   history.com</td>\n",
       "      <td> [kids_and_teens, arts, business]</td>\n",
       "      <td> 0.114286</td>\n",
       "      <td> 70</td>\n",
       "      <td> 0</td>\n",
       "      <td>  8</td>\n",
       "      <td> 0.333333</td>\n",
       "      <td> 21</td>\n",
       "      <td> 0</td>\n",
       "      <td>  7</td>\n",
       "    </tr>\n",
       "    <tr>\n",
       "      <th>3</th>\n",
       "      <td>   23.212.53.230</td>\n",
       "      <td> navbharattimes.indiatimes.com</td>\n",
       "      <td>                    [news, world]</td>\n",
       "      <td> 0.000000</td>\n",
       "      <td>  3</td>\n",
       "      <td> 0</td>\n",
       "      <td>  0</td>\n",
       "      <td> 0.000000</td>\n",
       "      <td>  3</td>\n",
       "      <td> 0</td>\n",
       "      <td>  0</td>\n",
       "    </tr>\n",
       "    <tr>\n",
       "      <th>4</th>\n",
       "      <td> 204.236.235.200</td>\n",
       "      <td>                       tmz.com</td>\n",
       "      <td>                           [arts]</td>\n",
       "      <td> 0.048193</td>\n",
       "      <td> 83</td>\n",
       "      <td> 0</td>\n",
       "      <td>  4</td>\n",
       "      <td> 0.166667</td>\n",
       "      <td> 18</td>\n",
       "      <td> 0</td>\n",
       "      <td>  3</td>\n",
       "    </tr>\n",
       "  </tbody>\n",
       "</table>\n",
       "</div>"
      ],
      "text/plain": [
       "               sIP                         domain  \\\n",
       "0    216.239.38.21                     uproxy.org   \n",
       "1    41.185.22.146                 medihelp.co.za   \n",
       "2    184.73.236.82                    history.com   \n",
       "3    23.212.53.230  navbharattimes.indiatimes.com   \n",
       "4  204.236.235.200                        tmz.com   \n",
       "\n",
       "                             subcat  CENSOR.US  CENSOR.US-tot  CENSOR.US-1  \\\n",
       "0                          [circum]   0.563218             87            0   \n",
       "1                           [world]   0.500000              2            1   \n",
       "2  [kids_and_teens, arts, business]   0.114286             70            0   \n",
       "3                     [news, world]   0.000000              3            0   \n",
       "4                            [arts]   0.048193             83            0   \n",
       "\n",
       "   CENSOR.US-3  CENSOR.SE  CENSOR.SE-tot  CENSOR.SE-1  CENSOR.SE-3  \n",
       "0           49   0.736842             19            0           14  \n",
       "1            0   0.000000              3            0            0  \n",
       "2            8   0.333333             21            0            7  \n",
       "3            0   0.000000              3            0            0  \n",
       "4            4   0.166667             18            0            3  "
      ]
     },
     "execution_count": 33,
     "metadata": {},
     "output_type": "execute_result"
    }
   ],
   "source": [
    "print len(df_censorship_US_SE)\n",
    "#del df_censorship_US_SE['subcat']\n",
    "COLUMNS = {name: 'CENSOR.'+name for name in df_censorship_US_SE.columns if not name in ['sIP', 'domain', 'subcat']}\n",
    "df3 = df_censorship_US_SE.rename(columns = COLUMNS)\n",
    "#del df3['subcat']\n",
    "df3.head()"
   ]
  },
  {
   "cell_type": "code",
   "execution_count": 45,
   "metadata": {
    "collapsed": false
   },
   "outputs": [
    {
     "name": "stdout",
     "output_type": "stream",
     "text": [
      "Index([u'sIP', u'domain', u'subcat', u'IP.dig_x', u'IP.anycast', u'IP.slash24', u'IP.slash24_shared', u'DOMAIN.dig', u'DOMAIN.DNS_contains', u'DOMAIN.http_domain', u'DOMAIN.http_domain2', u'DOMAIN.http_ipaddr1', u'DOMAIN.http_ipaddr2', u'DOMAIN.sIP_http_reach', u'CENSOR.US', u'CENSOR.US-tot', u'CENSOR.US-1', u'CENSOR.US-3', u'CENSOR.SE', u'CENSOR.SE-tot', u'CENSOR.SE-1', u'CENSOR.SE-3'], dtype='object')\n"
     ]
    }
   ],
   "source": [
    "# merge in order to preserve COLUMNS order\n",
    "del df2['subcat']\n",
    "df_temp = df1.merge( df2, on=['sIP', 'domain'], how='outer' )\n",
    "del df3['subcat']\n",
    "df_temp2 = df_temp.merge( df3, on=['sIP', 'domain'], how='outer' )\n",
    "print df_temp2.columns"
   ]
  },
  {
   "cell_type": "markdown",
   "metadata": {},
   "source": [
    "#### Sort by US censorship (increasing) / US totals (increasing)"
   ]
  },
  {
   "cell_type": "code",
   "execution_count": 48,
   "metadata": {
    "collapsed": false
   },
   "outputs": [
    {
     "data": {
      "text/html": [
       "<div style=\"max-height:1000px;max-width:1500px;overflow:auto;\">\n",
       "<table border=\"1\" class=\"dataframe\">\n",
       "  <thead>\n",
       "    <tr style=\"text-align: right;\">\n",
       "      <th></th>\n",
       "      <th>sIP</th>\n",
       "      <th>domain</th>\n",
       "      <th>subcat</th>\n",
       "      <th>IP.dig_x</th>\n",
       "      <th>IP.anycast</th>\n",
       "      <th>IP.slash24</th>\n",
       "      <th>IP.slash24_shared</th>\n",
       "      <th>DOMAIN.dig</th>\n",
       "      <th>DOMAIN.DNS_contains</th>\n",
       "      <th>DOMAIN.http_domain</th>\n",
       "      <th>...</th>\n",
       "      <th>DOMAIN.http_ipaddr2</th>\n",
       "      <th>DOMAIN.sIP_http_reach</th>\n",
       "      <th>CENSOR.US</th>\n",
       "      <th>CENSOR.US-tot</th>\n",
       "      <th>CENSOR.US-1</th>\n",
       "      <th>CENSOR.US-3</th>\n",
       "      <th>CENSOR.SE</th>\n",
       "      <th>CENSOR.SE-tot</th>\n",
       "      <th>CENSOR.SE-1</th>\n",
       "      <th>CENSOR.SE-3</th>\n",
       "    </tr>\n",
       "  </thead>\n",
       "  <tbody>\n",
       "    <tr>\n",
       "      <th>0</th>\n",
       "      <td>    104.20.12.28</td>\n",
       "      <td>   studentdoctor.net</td>\n",
       "      <td>                   [health]</td>\n",
       "      <td> []</td>\n",
       "      <td>  CloudFlare, Inc. United States</td>\n",
       "      <td>   104.20.12</td>\n",
       "      <td> 1</td>\n",
       "      <td>                      [104.20.13.28, 104.20.12.28]</td>\n",
       "      <td> True</td>\n",
       "      <td> 403</td>\n",
       "      <td>...</td>\n",
       "      <td> 301</td>\n",
       "      <td>  True</td>\n",
       "      <td> 1</td>\n",
       "      <td> 103</td>\n",
       "      <td>  1</td>\n",
       "      <td> 102</td>\n",
       "      <td> 1</td>\n",
       "      <td> 32</td>\n",
       "      <td> 0</td>\n",
       "      <td> 32</td>\n",
       "    </tr>\n",
       "    <tr>\n",
       "      <th>1</th>\n",
       "      <td>    104.16.7.118</td>\n",
       "      <td>           petmd.com</td>\n",
       "      <td>                   [health]</td>\n",
       "      <td> []</td>\n",
       "      <td>  CloudFlare, Inc. United States</td>\n",
       "      <td>    104.16.7</td>\n",
       "      <td> 1</td>\n",
       "      <td> [104.16.7.118, 104.16.11.118, 104.16.9.118, 10...</td>\n",
       "      <td> True</td>\n",
       "      <td> 403</td>\n",
       "      <td>...</td>\n",
       "      <td> 301</td>\n",
       "      <td>  True</td>\n",
       "      <td> 1</td>\n",
       "      <td>  99</td>\n",
       "      <td>  1</td>\n",
       "      <td>  98</td>\n",
       "      <td> 1</td>\n",
       "      <td> 51</td>\n",
       "      <td> 0</td>\n",
       "      <td> 51</td>\n",
       "    </tr>\n",
       "    <tr>\n",
       "      <th>2</th>\n",
       "      <td>    90.216.128.5</td>\n",
       "      <td>             sky.com</td>\n",
       "      <td> [arts, regional, shopping]</td>\n",
       "      <td> []</td>\n",
       "      <td>                              -1</td>\n",
       "      <td>  90.216.128</td>\n",
       "      <td> 1</td>\n",
       "      <td>                                    [90.216.128.5]</td>\n",
       "      <td> True</td>\n",
       "      <td> 200</td>\n",
       "      <td>...</td>\n",
       "      <td> 302</td>\n",
       "      <td>  True</td>\n",
       "      <td> 1</td>\n",
       "      <td>  98</td>\n",
       "      <td> 46</td>\n",
       "      <td>  52</td>\n",
       "      <td> 1</td>\n",
       "      <td> 43</td>\n",
       "      <td> 0</td>\n",
       "      <td> 43</td>\n",
       "    </tr>\n",
       "    <tr>\n",
       "      <th>3</th>\n",
       "      <td> 141.101.113.126</td>\n",
       "      <td> planetminecraft.com</td>\n",
       "      <td>                    [games]</td>\n",
       "      <td> []</td>\n",
       "      <td> CloudFlare, Inc. European Union</td>\n",
       "      <td> 141.101.113</td>\n",
       "      <td> 1</td>\n",
       "      <td> [190.93.240.126, 141.101.123.126, 190.93.241.1...</td>\n",
       "      <td> True</td>\n",
       "      <td> 403</td>\n",
       "      <td>...</td>\n",
       "      <td> 403</td>\n",
       "      <td> False</td>\n",
       "      <td> 1</td>\n",
       "      <td>  96</td>\n",
       "      <td>  0</td>\n",
       "      <td>  96</td>\n",
       "      <td> 1</td>\n",
       "      <td> 56</td>\n",
       "      <td> 0</td>\n",
       "      <td> 56</td>\n",
       "    </tr>\n",
       "    <tr>\n",
       "      <th>4</th>\n",
       "      <td>    104.20.28.34</td>\n",
       "      <td>      tunnelbear.com</td>\n",
       "      <td>                      [vpn]</td>\n",
       "      <td> []</td>\n",
       "      <td>  CloudFlare, Inc. United States</td>\n",
       "      <td>   104.20.28</td>\n",
       "      <td> 2</td>\n",
       "      <td>                      [104.20.29.34, 104.20.28.34]</td>\n",
       "      <td> True</td>\n",
       "      <td> 200</td>\n",
       "      <td>...</td>\n",
       "      <td> 302</td>\n",
       "      <td>  True</td>\n",
       "      <td> 1</td>\n",
       "      <td>  89</td>\n",
       "      <td>  0</td>\n",
       "      <td>  89</td>\n",
       "      <td> 1</td>\n",
       "      <td> 50</td>\n",
       "      <td> 0</td>\n",
       "      <td> 50</td>\n",
       "    </tr>\n",
       "  </tbody>\n",
       "</table>\n",
       "<p>5 rows × 22 columns</p>\n",
       "</div>"
      ],
      "text/plain": [
       "               sIP               domain                      subcat IP.dig_x  \\\n",
       "0     104.20.12.28    studentdoctor.net                    [health]       []   \n",
       "1     104.16.7.118            petmd.com                    [health]       []   \n",
       "2     90.216.128.5              sky.com  [arts, regional, shopping]       []   \n",
       "3  141.101.113.126  planetminecraft.com                     [games]       []   \n",
       "4     104.20.28.34       tunnelbear.com                       [vpn]       []   \n",
       "\n",
       "                        IP.anycast   IP.slash24  IP.slash24_shared  \\\n",
       "0   CloudFlare, Inc. United States    104.20.12                  1   \n",
       "1   CloudFlare, Inc. United States     104.16.7                  1   \n",
       "2                               -1   90.216.128                  1   \n",
       "3  CloudFlare, Inc. European Union  141.101.113                  1   \n",
       "4   CloudFlare, Inc. United States    104.20.28                  2   \n",
       "\n",
       "                                          DOMAIN.dig DOMAIN.DNS_contains  \\\n",
       "0                       [104.20.13.28, 104.20.12.28]                True   \n",
       "1  [104.16.7.118, 104.16.11.118, 104.16.9.118, 10...                True   \n",
       "2                                     [90.216.128.5]                True   \n",
       "3  [190.93.240.126, 141.101.123.126, 190.93.241.1...                True   \n",
       "4                       [104.20.29.34, 104.20.28.34]                True   \n",
       "\n",
       "   DOMAIN.http_domain     ...       DOMAIN.http_ipaddr2  \\\n",
       "0                 403     ...                       301   \n",
       "1                 403     ...                       301   \n",
       "2                 200     ...                       302   \n",
       "3                 403     ...                       403   \n",
       "4                 200     ...                       302   \n",
       "\n",
       "   DOMAIN.sIP_http_reach  CENSOR.US CENSOR.US-tot  CENSOR.US-1  CENSOR.US-3  \\\n",
       "0                   True          1           103            1          102   \n",
       "1                   True          1            99            1           98   \n",
       "2                   True          1            98           46           52   \n",
       "3                  False          1            96            0           96   \n",
       "4                   True          1            89            0           89   \n",
       "\n",
       "   CENSOR.SE  CENSOR.SE-tot  CENSOR.SE-1  CENSOR.SE-3  \n",
       "0          1             32            0           32  \n",
       "1          1             51            0           51  \n",
       "2          1             43            0           43  \n",
       "3          1             56            0           56  \n",
       "4          1             50            0           50  \n",
       "\n",
       "[5 rows x 22 columns]"
      ]
     },
     "execution_count": 48,
     "metadata": {},
     "output_type": "execute_result"
    }
   ],
   "source": [
    "df_final = df_temp2.sort(columns=[\"CENSOR.US\", \"CENSOR.US-tot\"], ascending=[False, False]).reset_index()\n",
    "del df_final['index']\n",
    "df_final.head()"
   ]
  },
  {
   "cell_type": "markdown",
   "metadata": {},
   "source": [
    "## SAVE THIS TABLE TO PICKLE, CSV, HTML, AND EXCEL (GOOGLE DOC) FOR ANALYSIS"
   ]
  },
  {
   "cell_type": "code",
   "execution_count": 49,
   "metadata": {
    "collapsed": false
   },
   "outputs": [],
   "source": [
    "df_final.to_pickle(RESULTS + \"df_sanitize_sIP.pkl\")\n",
    "df_final.to_csv(RESULTS + \"df_sanitize_sIP.csv\")\n",
    "df_final.to_html(RESULTS + \"df_sanitize_sIP.html\")"
   ]
  },
  {
   "cell_type": "markdown",
   "metadata": {},
   "source": [
    "### selected columns only"
   ]
  },
  {
   "cell_type": "code",
   "execution_count": 50,
   "metadata": {
    "collapsed": false
   },
   "outputs": [],
   "source": [
    "COLUMNS = [u'sIP', u'domain', u'subcat', u'IP.dig_x', u'IP.anycast',\n",
    "           u'DOMAIN.DNS_contains', u'DOMAIN.http_domain', u'DOMAIN.http_domain2',\n",
    "           u'DOMAIN.sIP_http_reach',\n",
    "           u'CENSOR.US', u'CENSOR.US-tot', u'CENSOR.US-1', u'CENSOR.US-3', \n",
    "           u'CENSOR.SE', u'CENSOR.SE-tot', u'CENSOR.SE-1', u'CENSOR.SE-3']\n",
    "df_short = df_final[COLUMNS].copy()\n",
    "\n",
    "def display_list(list_of_anything):\n",
    "    if len(list_of_anything) > 1:\n",
    "        return \"|\".join(list_of_anything)\n",
    "    elif len(list_of_anything) == 1:\n",
    "        return list_of_anything[0]\n",
    "    else:\n",
    "        return \"\"\n",
    "        \n",
    "# convert lists to strings\n",
    "df_short['IP.dig_x'] = df_short['IP.dig_x'].apply(display_list) \n",
    "df_short['subcat'] = df_short['subcat'].apply(display_list) "
   ]
  },
  {
   "cell_type": "code",
   "execution_count": 51,
   "metadata": {
    "collapsed": false
   },
   "outputs": [],
   "source": [
    "df_short.to_html(RESULTS + \"df_sanitize_sIP_short.html\")\n",
    "df_short.to_excel(RESULTS + \"df_sanitize_sIP_short.xlsx\")"
   ]
  },
  {
   "cell_type": "markdown",
   "metadata": {},
   "source": [
    "# DATA ANALYSIS: Types US/SE censorship expected\n",
    "- previous plot shows a CDF knee at censorship = 0.2, basically those 21% or so of the sIPs must be cloudflare.\n",
    "- type1: highly censored in US/SE\n",
    "- type2: US blocked, SE unblocked\n",
    "- type3: US unblocked, SE blocked\n",
    "- type4: uncensored (static IPs?)"
   ]
  },
  {
   "cell_type": "code",
   "execution_count": 52,
   "metadata": {
    "collapsed": false
   },
   "outputs": [
    {
     "name": "stdout",
     "output_type": "stream",
     "text": [
      "results/sIP_sanitize_20150426/\n"
     ]
    },
    {
     "data": {
      "text/html": [
       "<div style=\"max-height:1000px;max-width:1500px;overflow:auto;\">\n",
       "<table border=\"1\" class=\"dataframe\">\n",
       "  <thead>\n",
       "    <tr style=\"text-align: right;\">\n",
       "      <th></th>\n",
       "      <th>sIP</th>\n",
       "      <th>domain</th>\n",
       "      <th>subcat</th>\n",
       "      <th>IP.dig_x</th>\n",
       "      <th>IP.anycast</th>\n",
       "      <th>DOMAIN.DNS_contains</th>\n",
       "      <th>DOMAIN.http_domain</th>\n",
       "      <th>DOMAIN.http_domain2</th>\n",
       "      <th>DOMAIN.sIP_http_reach</th>\n",
       "      <th>CENSOR.US</th>\n",
       "      <th>CENSOR.US-tot</th>\n",
       "      <th>CENSOR.US-1</th>\n",
       "      <th>CENSOR.US-3</th>\n",
       "      <th>CENSOR.SE</th>\n",
       "      <th>CENSOR.SE-tot</th>\n",
       "      <th>CENSOR.SE-1</th>\n",
       "      <th>CENSOR.SE-3</th>\n",
       "    </tr>\n",
       "  </thead>\n",
       "  <tbody>\n",
       "    <tr>\n",
       "      <th>0</th>\n",
       "      <td>    104.20.12.28</td>\n",
       "      <td>   studentdoctor.net</td>\n",
       "      <td>                 health</td>\n",
       "      <td> </td>\n",
       "      <td>  CloudFlare, Inc. United States</td>\n",
       "      <td> True</td>\n",
       "      <td> 403</td>\n",
       "      <td> 200</td>\n",
       "      <td>  True</td>\n",
       "      <td> 1</td>\n",
       "      <td> 103</td>\n",
       "      <td>  1</td>\n",
       "      <td> 102</td>\n",
       "      <td> 1</td>\n",
       "      <td> 32</td>\n",
       "      <td> 0</td>\n",
       "      <td> 32</td>\n",
       "    </tr>\n",
       "    <tr>\n",
       "      <th>1</th>\n",
       "      <td>    104.16.7.118</td>\n",
       "      <td>           petmd.com</td>\n",
       "      <td>                 health</td>\n",
       "      <td> </td>\n",
       "      <td>  CloudFlare, Inc. United States</td>\n",
       "      <td> True</td>\n",
       "      <td> 403</td>\n",
       "      <td> 200</td>\n",
       "      <td>  True</td>\n",
       "      <td> 1</td>\n",
       "      <td>  99</td>\n",
       "      <td>  1</td>\n",
       "      <td>  98</td>\n",
       "      <td> 1</td>\n",
       "      <td> 51</td>\n",
       "      <td> 0</td>\n",
       "      <td> 51</td>\n",
       "    </tr>\n",
       "    <tr>\n",
       "      <th>2</th>\n",
       "      <td>    90.216.128.5</td>\n",
       "      <td>             sky.com</td>\n",
       "      <td> arts|regional|shopping</td>\n",
       "      <td> </td>\n",
       "      <td>                              -1</td>\n",
       "      <td> True</td>\n",
       "      <td> 200</td>\n",
       "      <td> NaN</td>\n",
       "      <td>  True</td>\n",
       "      <td> 1</td>\n",
       "      <td>  98</td>\n",
       "      <td> 46</td>\n",
       "      <td>  52</td>\n",
       "      <td> 1</td>\n",
       "      <td> 43</td>\n",
       "      <td> 0</td>\n",
       "      <td> 43</td>\n",
       "    </tr>\n",
       "    <tr>\n",
       "      <th>3</th>\n",
       "      <td> 141.101.113.126</td>\n",
       "      <td> planetminecraft.com</td>\n",
       "      <td>                  games</td>\n",
       "      <td> </td>\n",
       "      <td> CloudFlare, Inc. European Union</td>\n",
       "      <td> True</td>\n",
       "      <td> 403</td>\n",
       "      <td> 403</td>\n",
       "      <td> False</td>\n",
       "      <td> 1</td>\n",
       "      <td>  96</td>\n",
       "      <td>  0</td>\n",
       "      <td>  96</td>\n",
       "      <td> 1</td>\n",
       "      <td> 56</td>\n",
       "      <td> 0</td>\n",
       "      <td> 56</td>\n",
       "    </tr>\n",
       "    <tr>\n",
       "      <th>4</th>\n",
       "      <td>    104.20.28.34</td>\n",
       "      <td>      tunnelbear.com</td>\n",
       "      <td>                    vpn</td>\n",
       "      <td> </td>\n",
       "      <td>  CloudFlare, Inc. United States</td>\n",
       "      <td> True</td>\n",
       "      <td> 200</td>\n",
       "      <td> NaN</td>\n",
       "      <td>  True</td>\n",
       "      <td> 1</td>\n",
       "      <td>  89</td>\n",
       "      <td>  0</td>\n",
       "      <td>  89</td>\n",
       "      <td> 1</td>\n",
       "      <td> 50</td>\n",
       "      <td> 0</td>\n",
       "      <td> 50</td>\n",
       "    </tr>\n",
       "  </tbody>\n",
       "</table>\n",
       "</div>"
      ],
      "text/plain": [
       "               sIP               domain                  subcat IP.dig_x  \\\n",
       "0     104.20.12.28    studentdoctor.net                  health            \n",
       "1     104.16.7.118            petmd.com                  health            \n",
       "2     90.216.128.5              sky.com  arts|regional|shopping            \n",
       "3  141.101.113.126  planetminecraft.com                   games            \n",
       "4     104.20.28.34       tunnelbear.com                     vpn            \n",
       "\n",
       "                        IP.anycast DOMAIN.DNS_contains  DOMAIN.http_domain  \\\n",
       "0   CloudFlare, Inc. United States                True                 403   \n",
       "1   CloudFlare, Inc. United States                True                 403   \n",
       "2                               -1                True                 200   \n",
       "3  CloudFlare, Inc. European Union                True                 403   \n",
       "4   CloudFlare, Inc. United States                True                 200   \n",
       "\n",
       "   DOMAIN.http_domain2 DOMAIN.sIP_http_reach  CENSOR.US  CENSOR.US-tot  \\\n",
       "0                  200                  True          1            103   \n",
       "1                  200                  True          1             99   \n",
       "2                  NaN                  True          1             98   \n",
       "3                  403                 False          1             96   \n",
       "4                  NaN                  True          1             89   \n",
       "\n",
       "   CENSOR.US-1  CENSOR.US-3  CENSOR.SE  CENSOR.SE-tot  CENSOR.SE-1  \\\n",
       "0            1          102          1             32            0   \n",
       "1            1           98          1             51            0   \n",
       "2           46           52          1             43            0   \n",
       "3            0           96          1             56            0   \n",
       "4            0           89          1             50            0   \n",
       "\n",
       "   CENSOR.SE-3  \n",
       "0           32  \n",
       "1           51  \n",
       "2           43  \n",
       "3           56  \n",
       "4           50  "
      ]
     },
     "execution_count": 52,
     "metadata": {},
     "output_type": "execute_result"
    }
   ],
   "source": [
    "print RESULTS\n",
    "df_short.head()"
   ]
  },
  {
   "cell_type": "markdown",
   "metadata": {},
   "source": [
    "# sIP dumping\n",
    "- http-IP reachability\n",
    "- censorship > 0.8\n",
    "- anycasting"
   ]
  },
  {
   "cell_type": "code",
   "execution_count": 54,
   "metadata": {
    "collapsed": false
   },
   "outputs": [
    {
     "name": "stdout",
     "output_type": "stream",
     "text": [
      "Stuff that is important and wasn't in the measurements 41\n"
     ]
    }
   ],
   "source": [
    "print \"Stuff that is important and wasn't in the measurements\", len( df_short[df_short['CENSOR.US-tot'].isnull()] )"
   ]
  },
  {
   "cell_type": "markdown",
   "metadata": {},
   "source": [
    "### Reject http-IP reachability errors not in range (200,400) (except TorDirs) + Anything in cloudflare anycast confirmed \n",
    "- 'sIP_http_reach' == True or torDir\n",
    "- anycast contains cloudflare"
   ]
  },
  {
   "cell_type": "code",
   "execution_count": 55,
   "metadata": {
    "collapsed": false
   },
   "outputs": [
    {
     "name": "stdout",
     "output_type": "stream",
     "text": [
      "25\n",
      "541\n",
      "517\n",
      "39\n"
     ]
    }
   ],
   "source": [
    "df_short['IP.anycast'] = df_short['IP.anycast'].replace({-1:''})\n",
    "df_short['cloudflare'] = df_short['IP.anycast'].apply(lambda x: 'CloudFlare' in x)\n",
    "keep_HTTP_IP = df_short[ (df_short['DOMAIN.sIP_http_reach'] == True) |\n",
    "                    (df_short['domain'] == 'torDir')]\n",
    "\n",
    "not_cloudflare = keep_HTTP_IP[keep_HTTP_IP['cloudflare'] == False]\n",
    "\n",
    "print len(df_short[df_short['cloudflare'] == True])\n",
    "print len(keep_HTTP_IP)\n",
    "print len(not_cloudflare)\n",
    "print len(df_short) -  len(keep_HTTP_IP)"
   ]
  },
  {
   "cell_type": "code",
   "execution_count": 63,
   "metadata": {
    "collapsed": false
   },
   "outputs": [
    {
     "name": "stdout",
     "output_type": "stream",
     "text": [
      "39\n"
     ]
    }
   ],
   "source": [
    "rejected = df_short[ (df_short['DOMAIN.sIP_http_reach'] == False) &\n",
    "                    (df_short['domain'] != 'torDir')]\n",
    "print len(rejected)"
   ]
  },
  {
   "cell_type": "code",
   "execution_count": 62,
   "metadata": {
    "collapsed": false
   },
   "outputs": [],
   "source": [
    "rejected.to_html(RESULTS + \"rejected_bad_http_ipaddr_over_measurement_time.html\")"
   ]
  },
  {
   "cell_type": "markdown",
   "metadata": {},
   "source": [
    "### To decide draw CDF of US/SE censorship"
   ]
  },
  {
   "cell_type": "code",
   "execution_count": 64,
   "metadata": {
    "collapsed": false
   },
   "outputs": [],
   "source": [
    "def getCDF(data):\n",
    "    xdata = np.sort(data)\n",
    "    ydata = [i/len(xdata) for i in range(len(xdata))]\n",
    "    return xdata, ydata"
   ]
  },
  {
   "cell_type": "code",
   "execution_count": 65,
   "metadata": {
    "collapsed": true
   },
   "outputs": [],
   "source": [
    "%matplotlib nbagg\n",
    "\n",
    "import matplotlib\n",
    "import matplotlib.pylab as plt\n",
    "font = {'family' : 'normal',\n",
    "        'weight' : 'bold',\n",
    "        'size'   : 14}\n",
    "matplotlib.rc('font', **font)"
   ]
  },
  {
   "cell_type": "code",
   "execution_count": 66,
   "metadata": {
    "collapsed": true
   },
   "outputs": [],
   "source": [
    "df = not_cloudflare.copy()"
   ]
  },
  {
   "cell_type": "code",
   "execution_count": 67,
   "metadata": {
    "collapsed": true
   },
   "outputs": [],
   "source": [
    "not_cloudflare[['sIP', 'domain', 'subcat']].to_csv('data/Servers_IMC_not_anycast.txt', index=False )"
   ]
  },
  {
   "cell_type": "code",
   "execution_count": 68,
   "metadata": {
    "collapsed": false
   },
   "outputs": [
    {
     "data": {
      "text/plain": [
       "517"
      ]
     },
     "execution_count": 68,
     "metadata": {},
     "output_type": "execute_result"
    }
   ],
   "source": [
    "censorship = not_cloudflare.copy()\n",
    "len(censorship)"
   ]
  },
  {
   "cell_type": "markdown",
   "metadata": {},
   "source": [
    "### Less than 15 measurements in US"
   ]
  },
  {
   "cell_type": "code",
   "execution_count": 71,
   "metadata": {
    "collapsed": false
   },
   "outputs": [],
   "source": [
    "cols_orig = list( censorship.columns )\n",
    "cols_orig.remove('IP.dig_x')\n",
    "cols_orig.remove('IP.anycast')\n",
    "cols_orig.remove('DOMAIN.DNS_contains')\n",
    "cols_orig.remove('DOMAIN.http_domain')\n",
    "cols_orig.remove('DOMAIN.http_domain2')\n",
    "cols_orig.remove('DOMAIN.sIP_http_reach')\n",
    "#cols_orig.remove('DOMAIN.http_domain3')\n",
    "cols_orig.remove('cloudflare')\n",
    "COLUMNS = {colname: colname.split(\".\")[-1] for colname in cols_orig}\n",
    "#COLUMNS.values()"
   ]
  },
  {
   "cell_type": "code",
   "execution_count": 72,
   "metadata": {
    "collapsed": false
   },
   "outputs": [],
   "source": [
    "df = censorship.rename(columns = COLUMNS)[['sIP','domain','subcat',\n",
    "                                           'US','US-tot','US-1','US-3',\n",
    "                                         'SE','SE-tot','SE-1','SE-3']].copy()"
   ]
  },
  {
   "cell_type": "markdown",
   "metadata": {},
   "source": [
    "### Manually adding circum, vpn into things we care about"
   ]
  },
  {
   "cell_type": "code",
   "execution_count": 74,
   "metadata": {
    "collapsed": true
   },
   "outputs": [],
   "source": [
    "def check_interesting_subcat(x):\n",
    "    if ('vpn' in x) or ('circum' in x):\n",
    "        return 1\n",
    "    return 0"
   ]
  },
  {
   "cell_type": "markdown",
   "metadata": {},
   "source": [
    "## Not enough measurements to make a call?"
   ]
  },
  {
   "cell_type": "code",
   "execution_count": 75,
   "metadata": {
    "collapsed": false
   },
   "outputs": [
    {
     "name": "stdout",
     "output_type": "stream",
     "text": [
      "76 403\n",
      "71\n"
     ]
    }
   ],
   "source": [
    "less_meas = df[ (df['US-tot'] < 15) | (df['SE-tot'] < 15) ].copy()\n",
    "# set important for those we were goint to reject but are interesting\n",
    "#df['important'] = less_meas['subcat'].apply(check_interesting_subcat)\n",
    "#df['important'] = df['important'].fillna(0)\n",
    "less_meas['important'] = less_meas['subcat'].apply(check_interesting_subcat)\n",
    "\n",
    "more_meas = df[ (df['US-tot'] >= 15) & (df['SE-tot'] >= 15)]\n",
    "\n",
    "print len(less_meas), len(more_meas)\n",
    "print len(less_meas[less_meas['important'] == 0])"
   ]
  },
  {
   "cell_type": "markdown",
   "metadata": {},
   "source": [
    "### Reject this list for now"
   ]
  },
  {
   "cell_type": "code",
   "execution_count": 76,
   "metadata": {
    "collapsed": false
   },
   "outputs": [],
   "source": [
    "# ALL of these have too low measurements - reject them (except interesting domains marked)\n",
    "less_meas[less_meas['important'] == 0].to_html(RESULTS + \"deleted_low_measurements_thresh15.html\")\n",
    "less_meas[less_meas['important'] == 0][['sIP', 'domain', 'subcat']].to_csv('data/Servers_IMC_deleted_low_measurements.txt', index=False)"
   ]
  },
  {
   "cell_type": "markdown",
   "metadata": {},
   "source": [
    "### Save interesting domains in low meas separately (include tor/adult)"
   ]
  },
  {
   "cell_type": "code",
   "execution_count": 77,
   "metadata": {
    "collapsed": false
   },
   "outputs": [
    {
     "name": "stdout",
     "output_type": "stream",
     "text": [
      "5\n"
     ]
    }
   ],
   "source": [
    "#  THESE are interesting domains SHOULD BE ADDED LATER\n",
    "less_meas[less_meas['important'] == 1][['sIP', 'domain', 'subcat']].to_csv('data/Servers_IMC_add_later.txt', index=False)\n",
    "print len(less_meas[less_meas['important'] == 1])"
   ]
  },
  {
   "cell_type": "markdown",
   "metadata": {},
   "source": [
    "## Only US/SE with more than 15"
   ]
  },
  {
   "cell_type": "code",
   "execution_count": 78,
   "metadata": {
    "collapsed": false
   },
   "outputs": [
    {
     "name": "stdout",
     "output_type": "stream",
     "text": [
      "Total 517 Only current interest 403\n"
     ]
    }
   ],
   "source": [
    "stuff_we_want = df[(df['US-tot'] >= 15) & (df['SE-tot'] >= 15)]\n",
    "\n",
    "print \"Total\", len(censorship), \"Only current interest\", len( stuff_we_want )"
   ]
  },
  {
   "cell_type": "markdown",
   "metadata": {},
   "source": [
    "# NOW all results with 'stuff_we_want'\n",
    "## Save list of 403 current interest in Server IMC\n",
    "## Regenerate all plots"
   ]
  },
  {
   "cell_type": "code",
   "execution_count": 81,
   "metadata": {
    "collapsed": false
   },
   "outputs": [
    {
     "name": "stdout",
     "output_type": "stream",
     "text": [
      "403\n"
     ]
    }
   ],
   "source": [
    "print len(stuff_we_want)"
   ]
  },
  {
   "cell_type": "code",
   "execution_count": 82,
   "metadata": {
    "collapsed": true
   },
   "outputs": [],
   "source": [
    "stuff_we_want[['sIP', 'domain', 'subcat']].to_csv('data/Servers_IMC.txt', index=False)"
   ]
  },
  {
   "cell_type": "code",
   "execution_count": 83,
   "metadata": {
    "collapsed": true
   },
   "outputs": [],
   "source": [
    "df_wanted = stuff_we_want.copy()"
   ]
  },
  {
   "cell_type": "code",
   "execution_count": 84,
   "metadata": {
    "collapsed": false
   },
   "outputs": [
    {
     "data": {
      "application/javascript": [
       "/* Put everything inside the global mpl namespace */\n",
       "window.mpl = {};\n",
       "\n",
       "mpl.get_websocket_type = function() {\n",
       "    if (typeof(WebSocket) !== 'undefined') {\n",
       "        return WebSocket;\n",
       "    } else if (typeof(MozWebSocket) !== 'undefined') {\n",
       "        return MozWebSocket;\n",
       "    } else {\n",
       "        alert('Your browser does not have WebSocket support.' +\n",
       "              'Please try Chrome, Safari or Firefox ≥ 6. ' +\n",
       "              'Firefox 4 and 5 are also supported but you ' +\n",
       "              'have to enable WebSockets in about:config.');\n",
       "    };\n",
       "}\n",
       "\n",
       "mpl.figure = function(figure_id, websocket, ondownload, parent_element) {\n",
       "    this.id = figure_id;\n",
       "\n",
       "    this.ws = websocket;\n",
       "\n",
       "    this.supports_binary = (this.ws.binaryType != undefined);\n",
       "\n",
       "    if (!this.supports_binary) {\n",
       "        var warnings = document.getElementById(\"mpl-warnings\");\n",
       "        if (warnings) {\n",
       "            warnings.style.display = 'block';\n",
       "            warnings.textContent = (\n",
       "                \"This browser does not support binary websocket messages. \" +\n",
       "                    \"Performance may be slow.\");\n",
       "        }\n",
       "    }\n",
       "\n",
       "    this.imageObj = new Image();\n",
       "\n",
       "    this.context = undefined;\n",
       "    this.message = undefined;\n",
       "    this.canvas = undefined;\n",
       "    this.rubberband_canvas = undefined;\n",
       "    this.rubberband_context = undefined;\n",
       "    this.format_dropdown = undefined;\n",
       "\n",
       "    this.image_mode = 'full';\n",
       "\n",
       "    this.root = $('<div/>');\n",
       "    this._root_extra_style(this.root)\n",
       "    this.root.attr('style', 'display: inline-block');\n",
       "\n",
       "    $(parent_element).append(this.root);\n",
       "\n",
       "    this._init_header(this);\n",
       "    this._init_canvas(this);\n",
       "    this._init_toolbar(this);\n",
       "\n",
       "    var fig = this;\n",
       "\n",
       "    this.waiting = false;\n",
       "\n",
       "    this.ws.onopen =  function () {\n",
       "            fig.send_message(\"supports_binary\", {value: fig.supports_binary});\n",
       "            fig.send_message(\"send_image_mode\", {});\n",
       "            fig.send_message(\"refresh\", {});\n",
       "        }\n",
       "\n",
       "    this.imageObj.onload = function() {\n",
       "            if (fig.image_mode == 'full') {\n",
       "                // Full images could contain transparency (where diff images\n",
       "                // almost always do), so we need to clear the canvas so that\n",
       "                // there is no ghosting.\n",
       "                fig.context.clearRect(0, 0, fig.canvas.width, fig.canvas.height);\n",
       "            }\n",
       "            fig.context.drawImage(fig.imageObj, 0, 0);\n",
       "            fig.waiting = false;\n",
       "        };\n",
       "\n",
       "    this.imageObj.onunload = function() {\n",
       "        this.ws.close();\n",
       "    }\n",
       "\n",
       "    this.ws.onmessage = this._make_on_message_function(this);\n",
       "\n",
       "    this.ondownload = ondownload;\n",
       "}\n",
       "\n",
       "mpl.figure.prototype._init_header = function() {\n",
       "    var titlebar = $(\n",
       "        '<div class=\"ui-dialog-titlebar ui-widget-header ui-corner-all ' +\n",
       "        'ui-helper-clearfix\"/>');\n",
       "    var titletext = $(\n",
       "        '<div class=\"ui-dialog-title\" style=\"width: 100%; ' +\n",
       "        'text-align: center; padding: 3px;\"/>');\n",
       "    titlebar.append(titletext)\n",
       "    this.root.append(titlebar);\n",
       "    this.header = titletext[0];\n",
       "}\n",
       "\n",
       "\n",
       "\n",
       "mpl.figure.prototype._canvas_extra_style = function(canvas_div) {\n",
       "\n",
       "}\n",
       "\n",
       "\n",
       "mpl.figure.prototype._root_extra_style = function(canvas_div) {\n",
       "\n",
       "}\n",
       "\n",
       "mpl.figure.prototype._init_canvas = function() {\n",
       "    var fig = this;\n",
       "\n",
       "    var canvas_div = $('<div/>');\n",
       "\n",
       "    canvas_div.attr('style', 'position: relative; clear: both; outline: 0');\n",
       "\n",
       "    function canvas_keyboard_event(event) {\n",
       "        return fig.key_event(event, event['data']);\n",
       "    }\n",
       "\n",
       "    canvas_div.keydown('key_press', canvas_keyboard_event);\n",
       "    canvas_div.keyup('key_release', canvas_keyboard_event);\n",
       "    this.canvas_div = canvas_div\n",
       "    this._canvas_extra_style(canvas_div)\n",
       "    this.root.append(canvas_div);\n",
       "\n",
       "    var canvas = $('<canvas/>');\n",
       "    canvas.addClass('mpl-canvas');\n",
       "    canvas.attr('style', \"left: 0; top: 0; z-index: 0; outline: 0\")\n",
       "\n",
       "    this.canvas = canvas[0];\n",
       "    this.context = canvas[0].getContext(\"2d\");\n",
       "\n",
       "    var rubberband = $('<canvas/>');\n",
       "    rubberband.attr('style', \"position: absolute; left: 0; top: 0; z-index: 1;\")\n",
       "\n",
       "    var pass_mouse_events = true;\n",
       "\n",
       "    canvas_div.resizable({\n",
       "        start: function(event, ui) {\n",
       "            pass_mouse_events = false;\n",
       "        },\n",
       "        resize: function(event, ui) {\n",
       "            fig.request_resize(ui.size.width, ui.size.height);\n",
       "        },\n",
       "        stop: function(event, ui) {\n",
       "            pass_mouse_events = true;\n",
       "            fig.request_resize(ui.size.width, ui.size.height);\n",
       "        },\n",
       "    });\n",
       "\n",
       "    function mouse_event_fn(event) {\n",
       "        if (pass_mouse_events)\n",
       "            return fig.mouse_event(event, event['data']);\n",
       "    }\n",
       "\n",
       "    rubberband.mousedown('button_press', mouse_event_fn);\n",
       "    rubberband.mouseup('button_release', mouse_event_fn);\n",
       "    // Throttle sequential mouse events to 1 every 20ms.\n",
       "    rubberband.mousemove('motion_notify', mouse_event_fn);\n",
       "\n",
       "    rubberband.mouseenter('figure_enter', mouse_event_fn);\n",
       "    rubberband.mouseleave('figure_leave', mouse_event_fn);\n",
       "\n",
       "    canvas_div.on(\"wheel\", function (event) {\n",
       "        event = event.originalEvent;\n",
       "        event['data'] = 'scroll'\n",
       "        if (event.deltaY < 0) {\n",
       "            event.step = 1;\n",
       "        } else {\n",
       "            event.step = -1;\n",
       "        }\n",
       "        mouse_event_fn(event);\n",
       "    });\n",
       "\n",
       "    canvas_div.append(canvas);\n",
       "    canvas_div.append(rubberband);\n",
       "\n",
       "    this.rubberband = rubberband;\n",
       "    this.rubberband_canvas = rubberband[0];\n",
       "    this.rubberband_context = rubberband[0].getContext(\"2d\");\n",
       "    this.rubberband_context.strokeStyle = \"#000000\";\n",
       "\n",
       "    this._resize_canvas = function(width, height) {\n",
       "        // Keep the size of the canvas, canvas container, and rubber band\n",
       "        // canvas in synch.\n",
       "        canvas_div.css('width', width)\n",
       "        canvas_div.css('height', height)\n",
       "\n",
       "        canvas.attr('width', width);\n",
       "        canvas.attr('height', height);\n",
       "\n",
       "        rubberband.attr('width', width);\n",
       "        rubberband.attr('height', height);\n",
       "    }\n",
       "\n",
       "    // Set the figure to an initial 600x600px, this will subsequently be updated\n",
       "    // upon first draw.\n",
       "    this._resize_canvas(600, 600);\n",
       "\n",
       "    // Disable right mouse context menu.\n",
       "    $(this.rubberband_canvas).bind(\"contextmenu\",function(e){\n",
       "        return false;\n",
       "    });\n",
       "\n",
       "    function set_focus () {\n",
       "        canvas.focus();\n",
       "        canvas_div.focus();\n",
       "    }\n",
       "\n",
       "    window.setTimeout(set_focus, 100);\n",
       "}\n",
       "\n",
       "mpl.figure.prototype._init_toolbar = function() {\n",
       "    var fig = this;\n",
       "\n",
       "    var nav_element = $('<div/>')\n",
       "    nav_element.attr('style', 'width: 100%');\n",
       "    this.root.append(nav_element);\n",
       "\n",
       "    // Define a callback function for later on.\n",
       "    function toolbar_event(event) {\n",
       "        return fig.toolbar_button_onclick(event['data']);\n",
       "    }\n",
       "    function toolbar_mouse_event(event) {\n",
       "        return fig.toolbar_button_onmouseover(event['data']);\n",
       "    }\n",
       "\n",
       "    for(var toolbar_ind in mpl.toolbar_items) {\n",
       "        var name = mpl.toolbar_items[toolbar_ind][0];\n",
       "        var tooltip = mpl.toolbar_items[toolbar_ind][1];\n",
       "        var image = mpl.toolbar_items[toolbar_ind][2];\n",
       "        var method_name = mpl.toolbar_items[toolbar_ind][3];\n",
       "\n",
       "        if (!name) {\n",
       "            // put a spacer in here.\n",
       "            continue;\n",
       "        }\n",
       "        var button = $('<button/>');\n",
       "        button.addClass('ui-button ui-widget ui-state-default ui-corner-all ' +\n",
       "                        'ui-button-icon-only');\n",
       "        button.attr('role', 'button');\n",
       "        button.attr('aria-disabled', 'false');\n",
       "        button.click(method_name, toolbar_event);\n",
       "        button.mouseover(tooltip, toolbar_mouse_event);\n",
       "\n",
       "        var icon_img = $('<span/>');\n",
       "        icon_img.addClass('ui-button-icon-primary ui-icon');\n",
       "        icon_img.addClass(image);\n",
       "        icon_img.addClass('ui-corner-all');\n",
       "\n",
       "        var tooltip_span = $('<span/>');\n",
       "        tooltip_span.addClass('ui-button-text');\n",
       "        tooltip_span.html(tooltip);\n",
       "\n",
       "        button.append(icon_img);\n",
       "        button.append(tooltip_span);\n",
       "\n",
       "        nav_element.append(button);\n",
       "    }\n",
       "\n",
       "    var fmt_picker_span = $('<span/>');\n",
       "\n",
       "    var fmt_picker = $('<select/>');\n",
       "    fmt_picker.addClass('mpl-toolbar-option ui-widget ui-widget-content');\n",
       "    fmt_picker_span.append(fmt_picker);\n",
       "    nav_element.append(fmt_picker_span);\n",
       "    this.format_dropdown = fmt_picker[0];\n",
       "\n",
       "    for (var ind in mpl.extensions) {\n",
       "        var fmt = mpl.extensions[ind];\n",
       "        var option = $(\n",
       "            '<option/>', {selected: fmt === mpl.default_extension}).html(fmt);\n",
       "        fmt_picker.append(option)\n",
       "    }\n",
       "\n",
       "    // Add hover states to the ui-buttons\n",
       "    $( \".ui-button\" ).hover(\n",
       "        function() { $(this).addClass(\"ui-state-hover\");},\n",
       "        function() { $(this).removeClass(\"ui-state-hover\");}\n",
       "    );\n",
       "\n",
       "    var status_bar = $('<span class=\"mpl-message\"/>');\n",
       "    nav_element.append(status_bar);\n",
       "    this.message = status_bar[0];\n",
       "}\n",
       "\n",
       "mpl.figure.prototype.request_resize = function(x_pixels, y_pixels) {\n",
       "    // Request matplotlib to resize the figure. Matplotlib will then trigger a resize in the client,\n",
       "    // which will in turn request a refresh of the image.\n",
       "    this.send_message('resize', {'width': x_pixels, 'height': y_pixels});\n",
       "}\n",
       "\n",
       "mpl.figure.prototype.send_message = function(type, properties) {\n",
       "    properties['type'] = type;\n",
       "    properties['figure_id'] = this.id;\n",
       "    this.ws.send(JSON.stringify(properties));\n",
       "}\n",
       "\n",
       "mpl.figure.prototype.send_draw_message = function() {\n",
       "    if (!this.waiting) {\n",
       "        this.waiting = true;\n",
       "        this.ws.send(JSON.stringify({type: \"draw\", figure_id: this.id}));\n",
       "    }\n",
       "}\n",
       "\n",
       "\n",
       "mpl.figure.prototype.handle_save = function(fig, msg) {\n",
       "    var format_dropdown = fig.format_dropdown;\n",
       "    var format = format_dropdown.options[format_dropdown.selectedIndex].value;\n",
       "    fig.ondownload(fig, format);\n",
       "}\n",
       "\n",
       "\n",
       "mpl.figure.prototype.handle_resize = function(fig, msg) {\n",
       "    var size = msg['size'];\n",
       "    if (size[0] != fig.canvas.width || size[1] != fig.canvas.height) {\n",
       "        fig._resize_canvas(size[0], size[1]);\n",
       "        fig.send_message(\"refresh\", {});\n",
       "    };\n",
       "}\n",
       "\n",
       "mpl.figure.prototype.handle_rubberband = function(fig, msg) {\n",
       "    var x0 = msg['x0'];\n",
       "    var y0 = fig.canvas.height - msg['y0'];\n",
       "    var x1 = msg['x1'];\n",
       "    var y1 = fig.canvas.height - msg['y1'];\n",
       "    x0 = Math.floor(x0) + 0.5;\n",
       "    y0 = Math.floor(y0) + 0.5;\n",
       "    x1 = Math.floor(x1) + 0.5;\n",
       "    y1 = Math.floor(y1) + 0.5;\n",
       "    var min_x = Math.min(x0, x1);\n",
       "    var min_y = Math.min(y0, y1);\n",
       "    var width = Math.abs(x1 - x0);\n",
       "    var height = Math.abs(y1 - y0);\n",
       "\n",
       "    fig.rubberband_context.clearRect(\n",
       "        0, 0, fig.canvas.width, fig.canvas.height);\n",
       "\n",
       "    fig.rubberband_context.strokeRect(min_x, min_y, width, height);\n",
       "}\n",
       "\n",
       "mpl.figure.prototype.handle_figure_label = function(fig, msg) {\n",
       "    // Updates the figure title.\n",
       "    fig.header.textContent = msg['label'];\n",
       "}\n",
       "\n",
       "mpl.figure.prototype.handle_cursor = function(fig, msg) {\n",
       "    var cursor = msg['cursor'];\n",
       "    switch(cursor)\n",
       "    {\n",
       "    case 0:\n",
       "        cursor = 'pointer';\n",
       "        break;\n",
       "    case 1:\n",
       "        cursor = 'default';\n",
       "        break;\n",
       "    case 2:\n",
       "        cursor = 'crosshair';\n",
       "        break;\n",
       "    case 3:\n",
       "        cursor = 'move';\n",
       "        break;\n",
       "    }\n",
       "    fig.rubberband_canvas.style.cursor = cursor;\n",
       "}\n",
       "\n",
       "mpl.figure.prototype.handle_message = function(fig, msg) {\n",
       "    fig.message.textContent = msg['message'];\n",
       "}\n",
       "\n",
       "mpl.figure.prototype.handle_draw = function(fig, msg) {\n",
       "    // Request the server to send over a new figure.\n",
       "    fig.send_draw_message();\n",
       "}\n",
       "\n",
       "mpl.figure.prototype.handle_image_mode = function(fig, msg) {\n",
       "    fig.image_mode = msg['mode'];\n",
       "}\n",
       "\n",
       "mpl.figure.prototype.updated_canvas_event = function() {\n",
       "    // Called whenever the canvas gets updated.\n",
       "    this.send_message(\"ack\", {});\n",
       "}\n",
       "\n",
       "// A function to construct a web socket function for onmessage handling.\n",
       "// Called in the figure constructor.\n",
       "mpl.figure.prototype._make_on_message_function = function(fig) {\n",
       "    return function socket_on_message(evt) {\n",
       "        if (evt.data instanceof Blob) {\n",
       "            /* FIXME: We get \"Resource interpreted as Image but\n",
       "             * transferred with MIME type text/plain:\" errors on\n",
       "             * Chrome.  But how to set the MIME type?  It doesn't seem\n",
       "             * to be part of the websocket stream */\n",
       "            evt.data.type = \"image/png\";\n",
       "\n",
       "            /* Free the memory for the previous frames */\n",
       "            if (fig.imageObj.src) {\n",
       "                (window.URL || window.webkitURL).revokeObjectURL(\n",
       "                    fig.imageObj.src);\n",
       "            }\n",
       "\n",
       "            fig.imageObj.src = (window.URL || window.webkitURL).createObjectURL(\n",
       "                evt.data);\n",
       "            fig.updated_canvas_event();\n",
       "            return;\n",
       "        }\n",
       "        else if (typeof evt.data === 'string' && evt.data.slice(0, 21) == \"data:image/png;base64\") {\n",
       "            fig.imageObj.src = evt.data;\n",
       "            fig.updated_canvas_event();\n",
       "            return;\n",
       "        }\n",
       "\n",
       "        var msg = JSON.parse(evt.data);\n",
       "        var msg_type = msg['type'];\n",
       "\n",
       "        // Call the  \"handle_{type}\" callback, which takes\n",
       "        // the figure and JSON message as its only arguments.\n",
       "        try {\n",
       "            var callback = fig[\"handle_\" + msg_type];\n",
       "        } catch (e) {\n",
       "            console.log(\"No handler for the '\" + msg_type + \"' message type: \", msg);\n",
       "            return;\n",
       "        }\n",
       "\n",
       "        if (callback) {\n",
       "            try {\n",
       "                // console.log(\"Handling '\" + msg_type + \"' message: \", msg);\n",
       "                callback(fig, msg);\n",
       "            } catch (e) {\n",
       "                console.log(\"Exception inside the 'handler_\" + msg_type + \"' callback:\", e, e.stack, msg);\n",
       "            }\n",
       "        }\n",
       "    };\n",
       "}\n",
       "\n",
       "// from http://stackoverflow.com/questions/1114465/getting-mouse-location-in-canvas\n",
       "mpl.findpos = function(e) {\n",
       "    //this section is from http://www.quirksmode.org/js/events_properties.html\n",
       "    var targ;\n",
       "    if (!e)\n",
       "        e = window.event;\n",
       "    if (e.target)\n",
       "        targ = e.target;\n",
       "    else if (e.srcElement)\n",
       "        targ = e.srcElement;\n",
       "    if (targ.nodeType == 3) // defeat Safari bug\n",
       "        targ = targ.parentNode;\n",
       "\n",
       "    // jQuery normalizes the pageX and pageY\n",
       "    // pageX,Y are the mouse positions relative to the document\n",
       "    // offset() returns the position of the element relative to the document\n",
       "    var x = e.pageX - $(targ).offset().left;\n",
       "    var y = e.pageY - $(targ).offset().top;\n",
       "\n",
       "    return {\"x\": x, \"y\": y};\n",
       "};\n",
       "\n",
       "mpl.figure.prototype.mouse_event = function(event, name) {\n",
       "    var canvas_pos = mpl.findpos(event)\n",
       "\n",
       "    if (name === 'button_press')\n",
       "    {\n",
       "        this.canvas.focus();\n",
       "        this.canvas_div.focus();\n",
       "    }\n",
       "\n",
       "    var x = canvas_pos.x;\n",
       "    var y = canvas_pos.y;\n",
       "\n",
       "    this.send_message(name, {x: x, y: y, button: event.button,\n",
       "                             step: event.step});\n",
       "\n",
       "    /* This prevents the web browser from automatically changing to\n",
       "     * the text insertion cursor when the button is pressed.  We want\n",
       "     * to control all of the cursor setting manually through the\n",
       "     * 'cursor' event from matplotlib */\n",
       "    event.preventDefault();\n",
       "    return false;\n",
       "}\n",
       "\n",
       "mpl.figure.prototype._key_event_extra = function(event, name) {\n",
       "    // Handle any extra behaviour associated with a key event\n",
       "}\n",
       "\n",
       "mpl.figure.prototype.key_event = function(event, name) {\n",
       "\n",
       "    // Prevent repeat events\n",
       "    if (name == 'key_press')\n",
       "    {\n",
       "        if (event.which === this._key)\n",
       "            return;\n",
       "        else\n",
       "            this._key = event.which;\n",
       "    }\n",
       "    if (name == 'key_release')\n",
       "        this._key = null;\n",
       "\n",
       "    var value = '';\n",
       "    if (event.ctrlKey && event.which != 17)\n",
       "        value += \"ctrl+\";\n",
       "    if (event.altKey && event.which != 18)\n",
       "        value += \"alt+\";\n",
       "    if (event.shiftKey && event.which != 16)\n",
       "        value += \"shift+\";\n",
       "\n",
       "    value += 'k';\n",
       "    value += event.which.toString();\n",
       "\n",
       "    this._key_event_extra(event, name);\n",
       "\n",
       "    this.send_message(name, {key: value});\n",
       "    return false;\n",
       "}\n",
       "\n",
       "mpl.figure.prototype.toolbar_button_onclick = function(name) {\n",
       "    if (name == 'download') {\n",
       "        this.handle_save(this, null);\n",
       "    } else {\n",
       "        this.send_message(\"toolbar_button\", {name: name});\n",
       "    }\n",
       "};\n",
       "\n",
       "mpl.figure.prototype.toolbar_button_onmouseover = function(tooltip) {\n",
       "    this.message.textContent = tooltip;\n",
       "};\n",
       "mpl.toolbar_items = [[\"Home\", \"Reset original view\", \"fa fa-home icon-home\", \"home\"], [\"Back\", \"Back to  previous view\", \"fa fa-arrow-left icon-arrow-left\", \"back\"], [\"Forward\", \"Forward to next view\", \"fa fa-arrow-right icon-arrow-right\", \"forward\"], [\"\", \"\", \"\", \"\"], [\"Pan\", \"Pan axes with left mouse, zoom with right\", \"fa fa-arrows icon-move\", \"pan\"], [\"Zoom\", \"Zoom to rectangle\", \"fa fa-square-o icon-check-empty\", \"zoom\"], [\"\", \"\", \"\", \"\"], [\"Download\", \"Download plot\", \"fa fa-floppy-o icon-save\", \"download\"]];\n",
       "\n",
       "mpl.extensions = [\"eps\", \"jpeg\", \"pdf\", \"png\", \"ps\", \"raw\", \"svg\", \"tif\"];\n",
       "\n",
       "mpl.default_extension = \"png\";var comm_websocket_adapter = function(comm) {\n",
       "    // Create a \"websocket\"-like object which calls the given IPython comm\n",
       "    // object with the appropriate methods. Currently this is a non binary\n",
       "    // socket, so there is still some room for performance tuning.\n",
       "    var ws = {};\n",
       "\n",
       "    ws.close = function() {\n",
       "        comm.close()\n",
       "    };\n",
       "    ws.send = function(m) {\n",
       "        //console.log('sending', m);\n",
       "        comm.send(m);\n",
       "    };\n",
       "    // Register the callback with on_msg.\n",
       "    comm.on_msg(function(msg) {\n",
       "        //console.log('receiving', msg['content']['data'], msg);\n",
       "        // Pass the mpl event to the overriden (by mpl) onmessage function.\n",
       "        ws.onmessage(msg['content']['data'])\n",
       "    });\n",
       "    return ws;\n",
       "}\n",
       "\n",
       "mpl.mpl_figure_comm = function(comm, msg) {\n",
       "    // This is the function which gets called when the mpl process\n",
       "    // starts-up an IPython Comm through the \"matplotlib\" channel.\n",
       "\n",
       "    var id = msg.content.data.id;\n",
       "    // Get hold of the div created by the display call when the Comm\n",
       "    // socket was opened in Python.\n",
       "    var element = $(\"#\" + id);\n",
       "    var ws_proxy = comm_websocket_adapter(comm)\n",
       "\n",
       "    function ondownload(figure, format) {\n",
       "        window.open(figure.imageObj.src);\n",
       "    }\n",
       "\n",
       "    var fig = new mpl.figure(id, ws_proxy,\n",
       "                           ondownload,\n",
       "                           element.get(0));\n",
       "\n",
       "    // Call onopen now - mpl needs it, as it is assuming we've passed it a real\n",
       "    // web socket which is closed, not our websocket->open comm proxy.\n",
       "    ws_proxy.onopen();\n",
       "\n",
       "    fig.parent_element = element.get(0);\n",
       "    fig.cell_info = mpl.find_output_cell(\"<div id='\" + id + \"'></div>\");\n",
       "    if (!fig.cell_info) {\n",
       "        console.error(\"Failed to find cell for figure\", id, fig);\n",
       "        return;\n",
       "    }\n",
       "\n",
       "    var output_index = fig.cell_info[2]\n",
       "    var cell = fig.cell_info[0];\n",
       "\n",
       "};\n",
       "\n",
       "mpl.figure.prototype.handle_close = function(fig, msg) {\n",
       "    // Update the output cell to use the data from the current canvas.\n",
       "    fig.push_to_output();\n",
       "    var dataURL = fig.canvas.toDataURL();\n",
       "    // Re-enable the keyboard manager in IPython - without this line, in FF,\n",
       "    // the notebook keyboard shortcuts fail.\n",
       "    IPython.keyboard_manager.enable()\n",
       "    $(fig.parent_element).html('<img src=\"' + dataURL + '\">');\n",
       "    fig.send_message('closing', {});\n",
       "    fig.ws.close()\n",
       "}\n",
       "\n",
       "mpl.figure.prototype.push_to_output = function(remove_interactive) {\n",
       "    // Turn the data on the canvas into data in the output cell.\n",
       "    var dataURL = this.canvas.toDataURL();\n",
       "    this.cell_info[1]['text/html'] = '<img src=\"' + dataURL + '\">';\n",
       "}\n",
       "\n",
       "mpl.figure.prototype.updated_canvas_event = function() {\n",
       "    // Tell IPython that the notebook contents must change.\n",
       "    IPython.notebook.set_dirty(true);\n",
       "    this.send_message(\"ack\", {});\n",
       "    var fig = this;\n",
       "    // Wait a second, then push the new image to the DOM so\n",
       "    // that it is saved nicely (might be nice to debounce this).\n",
       "    setTimeout(function () { fig.push_to_output() }, 1000);\n",
       "}\n",
       "\n",
       "mpl.figure.prototype._init_toolbar = function() {\n",
       "    var fig = this;\n",
       "\n",
       "    var nav_element = $('<div/>')\n",
       "    nav_element.attr('style', 'width: 100%');\n",
       "    this.root.append(nav_element);\n",
       "\n",
       "    // Define a callback function for later on.\n",
       "    function toolbar_event(event) {\n",
       "        return fig.toolbar_button_onclick(event['data']);\n",
       "    }\n",
       "    function toolbar_mouse_event(event) {\n",
       "        return fig.toolbar_button_onmouseover(event['data']);\n",
       "    }\n",
       "\n",
       "    for(var toolbar_ind in mpl.toolbar_items){\n",
       "        var name = mpl.toolbar_items[toolbar_ind][0];\n",
       "        var tooltip = mpl.toolbar_items[toolbar_ind][1];\n",
       "        var image = mpl.toolbar_items[toolbar_ind][2];\n",
       "        var method_name = mpl.toolbar_items[toolbar_ind][3];\n",
       "\n",
       "        if (!name) { continue; };\n",
       "\n",
       "        var button = $('<button class=\"btn btn-default\" href=\"#\" title=\"' + name + '\"><i class=\"fa ' + image + ' fa-lg\"></i></button>');\n",
       "        button.click(method_name, toolbar_event);\n",
       "        button.mouseover(tooltip, toolbar_mouse_event);\n",
       "        nav_element.append(button);\n",
       "    }\n",
       "\n",
       "    // Add the status bar.\n",
       "    var status_bar = $('<span class=\"mpl-message\" style=\"text-align:right; float: right;\"/>');\n",
       "    nav_element.append(status_bar);\n",
       "    this.message = status_bar[0];\n",
       "\n",
       "    // Add the close button to the window.\n",
       "    var buttongrp = $('<div class=\"btn-group inline pull-right\"></div>');\n",
       "    var button = $('<button class=\"btn btn-mini btn-danger\" href=\"#\" title=\"Close figure\"><i class=\"fa fa-times icon-remove icon-large\"></i></button>');\n",
       "    button.click(function (evt) { fig.handle_close(fig, {}); } );\n",
       "    button.mouseover('Close figure', toolbar_mouse_event);\n",
       "    buttongrp.append(button);\n",
       "    var titlebar = this.root.find($('.ui-dialog-titlebar'));\n",
       "    titlebar.prepend(buttongrp);\n",
       "}\n",
       "\n",
       "\n",
       "mpl.figure.prototype._canvas_extra_style = function(el){\n",
       "    // this is important to make the div 'focusable\n",
       "    el.attr('tabindex', 0)\n",
       "    // reach out to IPython and tell the keyboard manager to turn it's self\n",
       "    // off when our div gets focus\n",
       "\n",
       "    // location in version 3\n",
       "    if (IPython.notebook.keyboard_manager) {\n",
       "        IPython.notebook.keyboard_manager.register_events(el);\n",
       "    }\n",
       "    else {\n",
       "        // location in version 2\n",
       "        IPython.keyboard_manager.register_events(el);\n",
       "    }\n",
       "\n",
       "}\n",
       "\n",
       "mpl.figure.prototype._key_event_extra = function(event, name) {\n",
       "    var manager = IPython.notebook.keyboard_manager;\n",
       "    if (!manager)\n",
       "        manager = IPython.keyboard_manager;\n",
       "\n",
       "    // Check for shift+enter\n",
       "    if (event.shiftKey && event.which == 13) {\n",
       "        this.canvas_div.blur();\n",
       "        event.shiftKey = false;\n",
       "        // Send a \"J\" for go to next cell\n",
       "        event.which = 74;\n",
       "        event.keyCode = 74;\n",
       "        manager.command_mode();\n",
       "        manager.handle_keydown(event);\n",
       "    }\n",
       "}\n",
       "\n",
       "mpl.figure.prototype.handle_save = function(fig, msg) {\n",
       "    fig.ondownload(fig, null);\n",
       "}\n",
       "\n",
       "\n",
       "mpl.find_output_cell = function(html_output) {\n",
       "    // Return the cell and output element which can be found *uniquely* in the notebook.\n",
       "    // Note - this is a bit hacky, but it is done because the \"notebook_saving.Notebook\"\n",
       "    // IPython event is triggered only after the cells have been serialised, which for\n",
       "    // our purposes (turning an active figure into a static one), is too late.\n",
       "    var cells = IPython.notebook.get_cells();\n",
       "    var ncells = cells.length;\n",
       "    for (var i=0; i<ncells; i++) {\n",
       "        var cell = cells[i];\n",
       "        if (cell.cell_type === 'code'){\n",
       "            for (var j=0; j<cell.output_area.outputs.length; j++) {\n",
       "                var data = cell.output_area.outputs[j];\n",
       "                if (data.data) {\n",
       "                    // IPython >= 3 moved mimebundle to data attribute of output\n",
       "                    data = data.data;\n",
       "                }\n",
       "                if (data['text/html'] == html_output) {\n",
       "                    return [cell, data, j];\n",
       "                }\n",
       "            }\n",
       "        }\n",
       "    }\n",
       "}\n",
       "\n",
       "// Register the function which deals with the matplotlib target/channel.\n",
       "// The kernel may be null if the page has been refreshed.\n",
       "if (IPython.notebook.kernel != null) {\n",
       "    IPython.notebook.kernel.comm_manager.register_target('matplotlib', mpl.mpl_figure_comm);\n",
       "}\n"
      ],
      "text/plain": [
       "<IPython.core.display.Javascript object>"
      ]
     },
     "metadata": {},
     "output_type": "display_data"
    },
    {
     "data": {
      "text/html": [
       "<img src=\"data:image/png;base64,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\">"
      ],
      "text/plain": [
       "<IPython.core.display.HTML object>"
      ]
     },
     "metadata": {},
     "output_type": "display_data"
    }
   ],
   "source": [
    "fig1, ax1 = plt.subplots(1,1, figsize=(6,4))\n",
    "\n",
    "x,y = getCDF( list( df_wanted['US'] ) )\n",
    "ax1.plot(x,y, label='US')\n",
    "x,y = getCDF( list( df_wanted['SE'] ) )\n",
    "ax1.plot(x,y, label='SE')\n",
    "\n",
    "ax1.set_xlabel(\"total censorship ratio per website (sIP)\")\n",
    "ax1.set_ylabel(\"CDF\")\n",
    "ax1.grid(1)\n",
    "ax1.legend(loc='best', fontsize=12)\n",
    "fig1.tight_layout()\n",
    "fig1.show()"
   ]
  },
  {
   "cell_type": "markdown",
   "metadata": {},
   "source": [
    "# Establishing GT\n",
    "- alexa top 50 in each subcat was reduced to 403 due to (-http_ip_reachable -anycast_confirmed -15meas)\n",
    "- the +interesting domains (5) should be added to the sIP list later\n",
    "- of these 403 we expect no censorship at all so\n",
    "- run 15 measurements per IP in SE/US (considered as friendly uncensored countries) [Apr 12 dataset]\n",
    "- if censorship is found - consider it as blockage\n",
    "- but in our measurements we still see some censorship => false reports due to limitations of our technique\n",
    "- maybe something on server end\n",
    "- get the distribution, look at distribution\n",
    "- data shows a conservative threshold of 0.2"
   ]
  },
  {
   "cell_type": "markdown",
   "metadata": {},
   "source": [
    "## Consider threshold of 0.2 censorship in 348 domains + not important - cut off"
   ]
  },
  {
   "cell_type": "code",
   "execution_count": 85,
   "metadata": {
    "collapsed": false
   },
   "outputs": [
    {
     "name": "stdout",
     "output_type": "stream",
     "text": [
      "403\n"
     ]
    }
   ],
   "source": [
    "THRESH = 0.2\n",
    "print len(df_wanted)"
   ]
  },
  {
   "cell_type": "code",
   "execution_count": 86,
   "metadata": {
    "collapsed": false
   },
   "outputs": [
    {
     "name": "stdout",
     "output_type": "stream",
     "text": [
      "91\n"
     ]
    }
   ],
   "source": [
    "type1 = df_wanted[ ( (df_wanted['US'] > THRESH) | (df_wanted['SE'] > THRESH) ) ]\n",
    "print len( type1 )\n",
    "#print len( type1[ type1['sIP'].isin(bad_sIP1 + bad_sIP2) ] )"
   ]
  },
  {
   "cell_type": "markdown",
   "metadata": {},
   "source": [
    "## Save the rejected IPs (91) and the accepted IPs"
   ]
  },
  {
   "cell_type": "code",
   "execution_count": 87,
   "metadata": {
    "collapsed": false
   },
   "outputs": [
    {
     "name": "stdout",
     "output_type": "stream",
     "text": [
      "91\n"
     ]
    }
   ],
   "source": [
    "# rejected sIPs based on threshold 0.2\n",
    "type1[['sIP', 'domain', 'subcat']].to_csv('data/Servers_IMC_censorship15_unhealthy_.txt', index=False)\n",
    "print len(type1)"
   ]
  },
  {
   "cell_type": "code",
   "execution_count": 88,
   "metadata": {
    "collapsed": false
   },
   "outputs": [
    {
     "name": "stdout",
     "output_type": "stream",
     "text": [
      "312\n"
     ]
    }
   ],
   "source": [
    "# accepted healthy sIPs with thresh 0.2\n",
    "df_final = df_wanted[ ( (df_wanted['US'] <= THRESH) & (df_wanted['SE'] <= THRESH) ) ]\n",
    "print len(df_final)\n",
    "df_final[['sIP', 'domain', 'subcat']].to_csv('data/Servers_IMC_censorship15_healthy.txt', index=False)"
   ]
  },
  {
   "cell_type": "markdown",
   "metadata": {},
   "source": [
    "# FINAL Servers_IMC with healthy sIPs + interesting domains to be tested"
   ]
  },
  {
   "cell_type": "code",
   "execution_count": 89,
   "metadata": {
    "collapsed": false
   },
   "outputs": [
    {
     "name": "stdout",
     "output_type": "stream",
     "text": [
      "312 5 317\n"
     ]
    }
   ],
   "source": [
    "df_servers_IMC = pd.concat([df_final, less_meas[less_meas['important'] == 1]])\n",
    "print len(df_final), len(less_meas[less_meas['important'] == 1]), len(df_servers_IMC)"
   ]
  },
  {
   "cell_type": "markdown",
   "metadata": {},
   "source": [
    "### save to Servers_IMC"
   ]
  },
  {
   "cell_type": "code",
   "execution_count": 90,
   "metadata": {
    "collapsed": false
   },
   "outputs": [],
   "source": [
    "df_servers_IMC[['sIP', 'domain', 'subcat']].to_csv('data/Servers_IMC.txt', index=False)"
   ]
  },
  {
   "cell_type": "markdown",
   "metadata": {},
   "source": [
    "# CONCLUSION\n",
    "- Only Apr 12\n",
    "- US AND SE > 15 measurements\n",
    "- US AND SE < 20% threshold censorship\n",
    "- Add the 5 interesting domain\n",
    "- any claim on censorship now is valid in comparison to both US and SE\n",
    "- as if a domain was more than 0.2 censored in both SE AND US => our technique was bad for that sIP and we can't explain it"
   ]
  },
  {
   "cell_type": "code",
   "execution_count": 91,
   "metadata": {
    "collapsed": false
   },
   "outputs": [
    {
     "data": {
      "text/html": [
       "<div style=\"max-height:1000px;max-width:1500px;overflow:auto;\">\n",
       "<table border=\"1\" class=\"dataframe\">\n",
       "  <thead>\n",
       "    <tr style=\"text-align: right;\">\n",
       "      <th></th>\n",
       "      <th>sIP</th>\n",
       "      <th>domain</th>\n",
       "      <th>subcat</th>\n",
       "      <th>US</th>\n",
       "      <th>US-tot</th>\n",
       "      <th>US-1</th>\n",
       "      <th>US-3</th>\n",
       "      <th>SE</th>\n",
       "      <th>SE-tot</th>\n",
       "      <th>SE-1</th>\n",
       "      <th>SE-3</th>\n",
       "      <th>important</th>\n",
       "    </tr>\n",
       "  </thead>\n",
       "  <tbody>\n",
       "    <tr>\n",
       "      <th>90 </th>\n",
       "      <td> 194.109.206.212</td>\n",
       "      <td>   torDir</td>\n",
       "      <td> circum</td>\n",
       "      <td> 0.500000</td>\n",
       "      <td> 2</td>\n",
       "      <td> 1</td>\n",
       "      <td> 0</td>\n",
       "      <td> 0</td>\n",
       "      <td> 2</td>\n",
       "      <td> 0</td>\n",
       "      <td> 0</td>\n",
       "      <td> 1</td>\n",
       "    </tr>\n",
       "    <tr>\n",
       "      <th>104</th>\n",
       "      <td>  193.23.244.244</td>\n",
       "      <td>   torDir</td>\n",
       "      <td> circum</td>\n",
       "      <td> 0.333333</td>\n",
       "      <td> 3</td>\n",
       "      <td> 1</td>\n",
       "      <td> 0</td>\n",
       "      <td> 0</td>\n",
       "      <td> 3</td>\n",
       "      <td> 0</td>\n",
       "      <td> 0</td>\n",
       "      <td> 1</td>\n",
       "    </tr>\n",
       "    <tr>\n",
       "      <th>511</th>\n",
       "      <td>  131.188.40.189</td>\n",
       "      <td>   torDir</td>\n",
       "      <td> circum</td>\n",
       "      <td> 0.000000</td>\n",
       "      <td> 3</td>\n",
       "      <td> 0</td>\n",
       "      <td> 0</td>\n",
       "      <td> 0</td>\n",
       "      <td> 2</td>\n",
       "      <td> 0</td>\n",
       "      <td> 0</td>\n",
       "      <td> 1</td>\n",
       "    </tr>\n",
       "    <tr>\n",
       "      <th>518</th>\n",
       "      <td>     50.62.247.1</td>\n",
       "      <td> f2cf.org</td>\n",
       "      <td> circum</td>\n",
       "      <td> 0.000000</td>\n",
       "      <td> 2</td>\n",
       "      <td> 0</td>\n",
       "      <td> 0</td>\n",
       "      <td> 0</td>\n",
       "      <td> 3</td>\n",
       "      <td> 0</td>\n",
       "      <td> 0</td>\n",
       "      <td> 1</td>\n",
       "    </tr>\n",
       "    <tr>\n",
       "      <th>528</th>\n",
       "      <td>  199.254.238.52</td>\n",
       "      <td>   torDir</td>\n",
       "      <td> circum</td>\n",
       "      <td> 0.000000</td>\n",
       "      <td> 2</td>\n",
       "      <td> 0</td>\n",
       "      <td> 0</td>\n",
       "      <td> 0</td>\n",
       "      <td> 1</td>\n",
       "      <td> 0</td>\n",
       "      <td> 0</td>\n",
       "      <td> 1</td>\n",
       "    </tr>\n",
       "  </tbody>\n",
       "</table>\n",
       "</div>"
      ],
      "text/plain": [
       "                 sIP    domain  subcat        US  US-tot  US-1  US-3  SE  \\\n",
       "90   194.109.206.212    torDir  circum  0.500000       2     1     0   0   \n",
       "104   193.23.244.244    torDir  circum  0.333333       3     1     0   0   \n",
       "511   131.188.40.189    torDir  circum  0.000000       3     0     0   0   \n",
       "518      50.62.247.1  f2cf.org  circum  0.000000       2     0     0   0   \n",
       "528   199.254.238.52    torDir  circum  0.000000       2     0     0   0   \n",
       "\n",
       "     SE-tot  SE-1  SE-3  important  \n",
       "90        2     0     0          1  \n",
       "104       3     0     0          1  \n",
       "511       2     0     0          1  \n",
       "518       3     0     0          1  \n",
       "528       1     0     0          1  "
      ]
     },
     "execution_count": 91,
     "metadata": {},
     "output_type": "execute_result"
    }
   ],
   "source": [
    "less_meas[less_meas['important'] == 1]"
   ]
  },
  {
   "cell_type": "markdown",
   "metadata": {
    "collapsed": true
   },
   "source": [
    " # Chop sIPs into 3 batches"
   ]
  },
  {
   "cell_type": "code",
   "execution_count": 92,
   "metadata": {
    "collapsed": false
   },
   "outputs": [],
   "source": [
    "valid_sIP = df_servers_IMC[['sIP', 'domain', 'subcat']]\n",
    "indices = list(valid_sIP.index)\n",
    "np.random.shuffle(indices)\n",
    "valid_sIP = valid_sIP.reindex(indices)\n",
    "\n",
    "N = len(valid_sIP)\n",
    "# chunk 1, 2, 3\n",
    "valid_sIP.iloc[0:N//3].to_csv(RESULTS + \"alexa-ips-2015-04-26-T.txt\", index=False, header=False)\n",
    "valid_sIP.iloc[N//3:2*N//3].to_csv(RESULTS + \"alexa-ips-2015-04-26-F.txt\", index=False, header=False)\n",
    "valid_sIP.iloc[2*N//3:].to_csv(RESULTS + \"alexa-ips-2015-04-26-S.txt\", index=False, header=False)"
   ]
  },
  {
   "cell_type": "code",
   "execution_count": 93,
   "metadata": {
    "collapsed": false
   },
   "outputs": [
    {
     "data": {
      "text/plain": [
       "317"
      ]
     },
     "execution_count": 93,
     "metadata": {},
     "output_type": "execute_result"
    }
   ],
   "source": [
    "len(valid_sIP)"
   ]
  },
  {
   "cell_type": "code",
   "execution_count": 94,
   "metadata": {
    "collapsed": false
   },
   "outputs": [
    {
     "data": {
      "text/plain": [
       "'results/sIP_sanitize_20150426/'"
      ]
     },
     "execution_count": 94,
     "metadata": {},
     "output_type": "execute_result"
    }
   ],
   "source": [
    "RESULTS"
   ]
  },
  {
   "cell_type": "code",
   "execution_count": null,
   "metadata": {
    "collapsed": true
   },
   "outputs": [],
   "source": []
  }
 ],
 "metadata": {
  "kernelspec": {
   "display_name": "Python 2",
   "language": "python",
   "name": "python2"
  },
  "language_info": {
   "codemirror_mode": {
    "name": "ipython",
    "version": 2
   },
   "file_extension": ".py",
   "mimetype": "text/x-python",
   "name": "python",
   "nbconvert_exporter": "python",
   "pygments_lexer": "ipython2",
   "version": "2.7.6"
  }
 },
 "nbformat": 4,
 "nbformat_minor": 0
}
